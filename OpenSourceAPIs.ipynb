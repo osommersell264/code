{
  "nbformat": 4,
  "nbformat_minor": 0,
  "metadata": {
    "colab": {
      "name": "OpenSourceAPIs.ipynb",
      "provenance": [],
      "include_colab_link": true
    },
    "kernelspec": {
      "name": "python3",
      "display_name": "Python 3"
    },
    "language_info": {
      "name": "python"
    }
  },
  "cells": [
    {
      "cell_type": "markdown",
      "metadata": {
        "id": "view-in-github",
        "colab_type": "text"
      },
      "source": [
        "<a href=\"https://colab.research.google.com/github/osommersell264/code/blob/master/OpenSourceAPIs.ipynb\" target=\"_parent\"><img src=\"https://colab.research.google.com/assets/colab-badge.svg\" alt=\"Open In Colab\"/></a>"
      ]
    },
    {
      "cell_type": "code",
      "metadata": {
        "id": "Z3cw_oODr7pq"
      },
      "source": [
        "## Using Open Source APIs\n",
        "## Prepared by Martha Norrick, Mayor's Office of Data Analytics, mnorrick@cityhall.nyc.gov"
      ],
      "execution_count": null,
      "outputs": []
    },
    {
      "cell_type": "markdown",
      "metadata": {
        "id": "4PieP6HvsfB-"
      },
      "source": [
        "### What We'll Cover\n",
        "\n",
        "There is a ton of open source data available on the internet.  This session will go through three commonly used APIs for City data scientists, the US Census and American Community Survey API, the Open Data API, and DoITT's Geoclient geocoding API.\n",
        "\n",
        "I'm assuming if you're in this session, you already know at least a little bit about using Python for data science, including importing packages, loading and handling Pandas dataframes, and basic SQL like queries.  If I'm moving too fast, holler and I can slow down!  But there's a lot to cover so let's get started."
      ]
    },
    {
      "cell_type": "markdown",
      "metadata": {
        "id": "RMBgdkSKtePj"
      },
      "source": [
        "### What's an API?\n",
        "\n",
        "First off, I'm not a computer scientist.  But API stands for Application Programming Interface, which is basically how computers or computer programs can communicate with each other.  For our purposes, we're writing a computer program to interact with a database application and ask it nicely to send us back data.  For a more nuanced understanding of APIs, ask your friendly neighborhood computer scientist or engineer!"
      ]
    },
    {
      "cell_type": "markdown",
      "metadata": {
        "id": "0F8IUm7evKIy"
      },
      "source": [
        "Most APIs require you to authenticate, e.g. tell the application who you are, in order to access the data or application.  Usually that takes the form of an API key.  It's important to keep your API keys private--if you publish them on the internet, they may end up being misused by others or subject you to rate limits or if it's an API that charges per call, you can end up with a very nasty surprise.  We'll talk about setting environment variables or reading in our credentials from a local file so as to protect our API keys!"
      ]
    },
    {
      "cell_type": "markdown",
      "metadata": {
        "id": "-C_5RR2nvuAg"
      },
      "source": [
        "## The American Community Survey and Census APIs"
      ]
    },
    {
      "cell_type": "markdown",
      "metadata": {
        "id": "hyJDZ_S8v8jl"
      },
      "source": [
        "Hopefully needing no introduction, the US Census and the American Community Survey are some of the most valuable data we have about NYC and the people and businesses here.  Many of you may have downloaded data from American Factfinder or the census FTP site.  \n",
        "\n",
        "The upside of using the API is that it can save some time clicking on stuff, and also make it easier to share replicable analysis with others without having to also share data files.  The downside is that not every single piece of data is available via the API, and it can be easy to pull data without really understanding it.  \n",
        "\n",
        "I *highly* encourage you to reach out to some of the many knowledgable folks in the City if you have questions about which variables are appropriate, whether the results are reliable at the level of geography you're looking at, etc.  DCP has several excellent tools for this as does the Poverty Research Unit at the Mayor's Office for Economic Opportunity.  The Census also has great documentation!  And there's an active Slack group for API users that you can join.\n",
        "\n",
        "With that, let's get started by importing the packages we'll need."
      ]
    },
    {
      "cell_type": "code",
      "metadata": {
        "id": "MrrlOcRpsCDz",
        "colab": {
          "base_uri": "https://localhost:8080/"
        },
        "outputId": "2ec5ed26-93c5-4321-fdd6-4506e87546fc"
      },
      "source": [
        "!pip install geopandas\n",
        "!pip install fiona\n",
        "!pip install usaddress\n",
        "import pandas as pd\n",
        "import requests\n",
        "import os\n",
        "import urllib\n",
        "import json\n",
        "import numpy as np\n",
        "import io\n",
        "from io import BytesIO\n",
        "from functools import reduce\n",
        "import geopandas as gpd\n",
        "import fiona\n",
        "import usaddress\n",
        "import matplotlib.pyplot as plt"
      ],
      "execution_count": null,
      "outputs": [
        {
          "output_type": "stream",
          "name": "stdout",
          "text": [
            "Requirement already satisfied: geopandas in /usr/local/lib/python3.7/dist-packages (0.10.2)\n",
            "Requirement already satisfied: pandas>=0.25.0 in /usr/local/lib/python3.7/dist-packages (from geopandas) (1.1.5)\n",
            "Requirement already satisfied: pyproj>=2.2.0 in /usr/local/lib/python3.7/dist-packages (from geopandas) (3.2.1)\n",
            "Requirement already satisfied: fiona>=1.8 in /usr/local/lib/python3.7/dist-packages (from geopandas) (1.8.20)\n",
            "Requirement already satisfied: shapely>=1.6 in /usr/local/lib/python3.7/dist-packages (from geopandas) (1.7.1)\n",
            "Requirement already satisfied: click-plugins>=1.0 in /usr/local/lib/python3.7/dist-packages (from fiona>=1.8->geopandas) (1.1.1)\n",
            "Requirement already satisfied: six>=1.7 in /usr/local/lib/python3.7/dist-packages (from fiona>=1.8->geopandas) (1.15.0)\n",
            "Requirement already satisfied: cligj>=0.5 in /usr/local/lib/python3.7/dist-packages (from fiona>=1.8->geopandas) (0.7.2)\n",
            "Requirement already satisfied: setuptools in /usr/local/lib/python3.7/dist-packages (from fiona>=1.8->geopandas) (57.4.0)\n",
            "Requirement already satisfied: munch in /usr/local/lib/python3.7/dist-packages (from fiona>=1.8->geopandas) (2.5.0)\n",
            "Requirement already satisfied: certifi in /usr/local/lib/python3.7/dist-packages (from fiona>=1.8->geopandas) (2021.5.30)\n",
            "Requirement already satisfied: attrs>=17 in /usr/local/lib/python3.7/dist-packages (from fiona>=1.8->geopandas) (21.2.0)\n",
            "Requirement already satisfied: click>=4.0 in /usr/local/lib/python3.7/dist-packages (from fiona>=1.8->geopandas) (7.1.2)\n",
            "Requirement already satisfied: pytz>=2017.2 in /usr/local/lib/python3.7/dist-packages (from pandas>=0.25.0->geopandas) (2018.9)\n",
            "Requirement already satisfied: python-dateutil>=2.7.3 in /usr/local/lib/python3.7/dist-packages (from pandas>=0.25.0->geopandas) (2.8.2)\n",
            "Requirement already satisfied: numpy>=1.15.4 in /usr/local/lib/python3.7/dist-packages (from pandas>=0.25.0->geopandas) (1.19.5)\n",
            "Requirement already satisfied: fiona in /usr/local/lib/python3.7/dist-packages (1.8.20)\n",
            "Requirement already satisfied: setuptools in /usr/local/lib/python3.7/dist-packages (from fiona) (57.4.0)\n",
            "Requirement already satisfied: attrs>=17 in /usr/local/lib/python3.7/dist-packages (from fiona) (21.2.0)\n",
            "Requirement already satisfied: munch in /usr/local/lib/python3.7/dist-packages (from fiona) (2.5.0)\n",
            "Requirement already satisfied: certifi in /usr/local/lib/python3.7/dist-packages (from fiona) (2021.5.30)\n",
            "Requirement already satisfied: cligj>=0.5 in /usr/local/lib/python3.7/dist-packages (from fiona) (0.7.2)\n",
            "Requirement already satisfied: click>=4.0 in /usr/local/lib/python3.7/dist-packages (from fiona) (7.1.2)\n",
            "Requirement already satisfied: click-plugins>=1.0 in /usr/local/lib/python3.7/dist-packages (from fiona) (1.1.1)\n",
            "Requirement already satisfied: six>=1.7 in /usr/local/lib/python3.7/dist-packages (from fiona) (1.15.0)\n",
            "Requirement already satisfied: usaddress in /usr/local/lib/python3.7/dist-packages (0.5.10)\n",
            "Requirement already satisfied: python-crfsuite>=0.7 in /usr/local/lib/python3.7/dist-packages (from usaddress) (0.9.7)\n",
            "Requirement already satisfied: probableparsing in /usr/local/lib/python3.7/dist-packages (from usaddress) (0.0.1)\n",
            "Requirement already satisfied: future>=0.14 in /usr/local/lib/python3.7/dist-packages (from usaddress) (0.16.0)\n"
          ]
        }
      ]
    },
    {
      "cell_type": "markdown",
      "metadata": {
        "id": "xQl6xbX7zZc8"
      },
      "source": [
        "In most cases, we use the 5-year ACS estimates, which generally have the lowest margin of error of the all the different ACS options, but also aggregates the most years together.  The documentation and links are available here https://www.census.gov/data/developers/data-sets/acs-5year.htm.  \n",
        "\n",
        "From the census: The 5-year estimates from the ACS are \"period\" estimates that represent data collected over a period of time. The primary advantage of using multiyear estimates is the increased statistical reliability of the data for less populated areas and small population subgroups."
      ]
    },
    {
      "cell_type": "markdown",
      "metadata": {
        "id": "Co-Ib1br0KB6"
      },
      "source": [
        "You do need to request a key for this data here: https://api.census.gov/data/key_signup.html but it's fast."
      ]
    },
    {
      "cell_type": "markdown",
      "metadata": {
        "id": "iCW-EDmMqhNo"
      },
      "source": [
        "One way to handle keys in Python is through environment variables.  Environment variables are similar to Python variables, except instead of explictly writing the value into the program, we explictly write the value in a file called an environment file (.env) that our program will look to to find the value of the key."
      ]
    },
    {
      "cell_type": "code",
      "metadata": {
        "id": "wjmP8Vt1zUrm",
        "colab": {
          "base_uri": "https://localhost:8080/",
          "height": 527
        },
        "outputId": "ae9c4840-62fa-455a-a25c-9c16e8a38aee"
      },
      "source": [
        "#package to handle environment variables in colab\n",
        "!pip install colab-env -qU\n",
        "import colab_env"
      ],
      "execution_count": 3,
      "outputs": [
        {
          "output_type": "error",
          "ename": "KeyboardInterrupt",
          "evalue": "ignored",
          "traceback": [
            "\u001b[0;31m---------------------------------------------------------------------------\u001b[0m",
            "\u001b[0;31mKeyboardInterrupt\u001b[0m                         Traceback (most recent call last)",
            "\u001b[0;32m/usr/local/lib/python3.7/dist-packages/ipykernel/kernelbase.py\u001b[0m in \u001b[0;36m_input_request\u001b[0;34m(self, prompt, ident, parent, password)\u001b[0m\n\u001b[1;32m    728\u001b[0m             \u001b[0;32mtry\u001b[0m\u001b[0;34m:\u001b[0m\u001b[0;34m\u001b[0m\u001b[0;34m\u001b[0m\u001b[0m\n\u001b[0;32m--> 729\u001b[0;31m                 \u001b[0mident\u001b[0m\u001b[0;34m,\u001b[0m \u001b[0mreply\u001b[0m \u001b[0;34m=\u001b[0m \u001b[0mself\u001b[0m\u001b[0;34m.\u001b[0m\u001b[0msession\u001b[0m\u001b[0;34m.\u001b[0m\u001b[0mrecv\u001b[0m\u001b[0;34m(\u001b[0m\u001b[0mself\u001b[0m\u001b[0;34m.\u001b[0m\u001b[0mstdin_socket\u001b[0m\u001b[0;34m,\u001b[0m \u001b[0;36m0\u001b[0m\u001b[0;34m)\u001b[0m\u001b[0;34m\u001b[0m\u001b[0;34m\u001b[0m\u001b[0m\n\u001b[0m\u001b[1;32m    730\u001b[0m             \u001b[0;32mexcept\u001b[0m \u001b[0mException\u001b[0m\u001b[0;34m:\u001b[0m\u001b[0;34m\u001b[0m\u001b[0;34m\u001b[0m\u001b[0m\n",
            "\u001b[0;32m/usr/local/lib/python3.7/dist-packages/jupyter_client/session.py\u001b[0m in \u001b[0;36mrecv\u001b[0;34m(self, socket, mode, content, copy)\u001b[0m\n\u001b[1;32m    802\u001b[0m         \u001b[0;32mtry\u001b[0m\u001b[0;34m:\u001b[0m\u001b[0;34m\u001b[0m\u001b[0;34m\u001b[0m\u001b[0m\n\u001b[0;32m--> 803\u001b[0;31m             \u001b[0mmsg_list\u001b[0m \u001b[0;34m=\u001b[0m \u001b[0msocket\u001b[0m\u001b[0;34m.\u001b[0m\u001b[0mrecv_multipart\u001b[0m\u001b[0;34m(\u001b[0m\u001b[0mmode\u001b[0m\u001b[0;34m,\u001b[0m \u001b[0mcopy\u001b[0m\u001b[0;34m=\u001b[0m\u001b[0mcopy\u001b[0m\u001b[0;34m)\u001b[0m\u001b[0;34m\u001b[0m\u001b[0;34m\u001b[0m\u001b[0m\n\u001b[0m\u001b[1;32m    804\u001b[0m         \u001b[0;32mexcept\u001b[0m \u001b[0mzmq\u001b[0m\u001b[0;34m.\u001b[0m\u001b[0mZMQError\u001b[0m \u001b[0;32mas\u001b[0m \u001b[0me\u001b[0m\u001b[0;34m:\u001b[0m\u001b[0;34m\u001b[0m\u001b[0;34m\u001b[0m\u001b[0m\n",
            "\u001b[0;32m/usr/local/lib/python3.7/dist-packages/zmq/sugar/socket.py\u001b[0m in \u001b[0;36mrecv_multipart\u001b[0;34m(self, flags, copy, track)\u001b[0m\n\u001b[1;32m    624\u001b[0m         \"\"\"\n\u001b[0;32m--> 625\u001b[0;31m         \u001b[0mparts\u001b[0m \u001b[0;34m=\u001b[0m \u001b[0;34m[\u001b[0m\u001b[0mself\u001b[0m\u001b[0;34m.\u001b[0m\u001b[0mrecv\u001b[0m\u001b[0;34m(\u001b[0m\u001b[0mflags\u001b[0m\u001b[0;34m,\u001b[0m \u001b[0mcopy\u001b[0m\u001b[0;34m=\u001b[0m\u001b[0mcopy\u001b[0m\u001b[0;34m,\u001b[0m \u001b[0mtrack\u001b[0m\u001b[0;34m=\u001b[0m\u001b[0mtrack\u001b[0m\u001b[0;34m)\u001b[0m\u001b[0;34m]\u001b[0m\u001b[0;34m\u001b[0m\u001b[0;34m\u001b[0m\u001b[0m\n\u001b[0m\u001b[1;32m    626\u001b[0m         \u001b[0;31m# have first part already, only loop while more to receive\u001b[0m\u001b[0;34m\u001b[0m\u001b[0;34m\u001b[0m\u001b[0;34m\u001b[0m\u001b[0m\n",
            "\u001b[0;32mzmq/backend/cython/socket.pyx\u001b[0m in \u001b[0;36mzmq.backend.cython.socket.Socket.recv\u001b[0;34m()\u001b[0m\n",
            "\u001b[0;32mzmq/backend/cython/socket.pyx\u001b[0m in \u001b[0;36mzmq.backend.cython.socket.Socket.recv\u001b[0;34m()\u001b[0m\n",
            "\u001b[0;32mzmq/backend/cython/socket.pyx\u001b[0m in \u001b[0;36mzmq.backend.cython.socket._recv_copy\u001b[0;34m()\u001b[0m\n",
            "\u001b[0;32m/usr/local/lib/python3.7/dist-packages/zmq/backend/cython/checkrc.pxd\u001b[0m in \u001b[0;36mzmq.backend.cython.checkrc._check_rc\u001b[0;34m()\u001b[0m\n",
            "\u001b[0;31mKeyboardInterrupt\u001b[0m: ",
            "\nDuring handling of the above exception, another exception occurred:\n",
            "\u001b[0;31mKeyboardInterrupt\u001b[0m                         Traceback (most recent call last)",
            "\u001b[0;32m<ipython-input-3-1d30f49f2bcf>\u001b[0m in \u001b[0;36m<module>\u001b[0;34m()\u001b[0m\n\u001b[1;32m      1\u001b[0m \u001b[0;31m#package to handle environment variables in colab\u001b[0m\u001b[0;34m\u001b[0m\u001b[0;34m\u001b[0m\u001b[0;34m\u001b[0m\u001b[0m\n\u001b[1;32m      2\u001b[0m \u001b[0mget_ipython\u001b[0m\u001b[0;34m(\u001b[0m\u001b[0;34m)\u001b[0m\u001b[0;34m.\u001b[0m\u001b[0msystem\u001b[0m\u001b[0;34m(\u001b[0m\u001b[0;34m'pip install colab-env -qU'\u001b[0m\u001b[0;34m)\u001b[0m\u001b[0;34m\u001b[0m\u001b[0;34m\u001b[0m\u001b[0m\n\u001b[0;32m----> 3\u001b[0;31m \u001b[0;32mimport\u001b[0m \u001b[0mcolab_env\u001b[0m\u001b[0;34m\u001b[0m\u001b[0;34m\u001b[0m\u001b[0m\n\u001b[0m",
            "\u001b[0;32m/usr/local/lib/python3.7/dist-packages/colab_env/__init__.py\u001b[0m in \u001b[0;36m<module>\u001b[0;34m()\u001b[0m\n\u001b[1;32m      5\u001b[0m \u001b[0;32mfrom\u001b[0m \u001b[0mcolab_env\u001b[0m\u001b[0;34m.\u001b[0m\u001b[0mhandler\u001b[0m \u001b[0;32mimport\u001b[0m \u001b[0mColabEnvHandler\u001b[0m\u001b[0;34m\u001b[0m\u001b[0;34m\u001b[0m\u001b[0m\n\u001b[1;32m      6\u001b[0m \u001b[0;34m\u001b[0m\u001b[0m\n\u001b[0;32m----> 7\u001b[0;31m \u001b[0menvvar_handler\u001b[0m \u001b[0;34m=\u001b[0m \u001b[0mColabEnvHandler\u001b[0m\u001b[0;34m(\u001b[0m\u001b[0;34m)\u001b[0m\u001b[0;34m\u001b[0m\u001b[0;34m\u001b[0m\u001b[0m\n\u001b[0m\u001b[1;32m      8\u001b[0m \u001b[0;34m\u001b[0m\u001b[0m\n\u001b[1;32m      9\u001b[0m \u001b[0;34m\u001b[0m\u001b[0m\n",
            "\u001b[0;32m/usr/local/lib/python3.7/dist-packages/colab_env/handler.py\u001b[0m in \u001b[0;36m__init__\u001b[0;34m(self, force_remount)\u001b[0m\n\u001b[1;32m     37\u001b[0m         \"\"\"\n\u001b[1;32m     38\u001b[0m \u001b[0;34m\u001b[0m\u001b[0m\n\u001b[0;32m---> 39\u001b[0;31m         \u001b[0mdrive\u001b[0m\u001b[0;34m.\u001b[0m\u001b[0mmount\u001b[0m\u001b[0;34m(\u001b[0m\u001b[0;34m\"/content/gdrive\"\u001b[0m\u001b[0;34m,\u001b[0m \u001b[0mforce_remount\u001b[0m\u001b[0;34m=\u001b[0m\u001b[0mforce_remount\u001b[0m\u001b[0;34m)\u001b[0m\u001b[0;34m\u001b[0m\u001b[0;34m\u001b[0m\u001b[0m\n\u001b[0m\u001b[1;32m     40\u001b[0m \u001b[0;34m\u001b[0m\u001b[0m\n\u001b[1;32m     41\u001b[0m         \u001b[0;32mif\u001b[0m \u001b[0mos\u001b[0m\u001b[0;34m.\u001b[0m\u001b[0mpath\u001b[0m\u001b[0;34m.\u001b[0m\u001b[0misfile\u001b[0m\u001b[0;34m(\u001b[0m\u001b[0mself\u001b[0m\u001b[0;34m.\u001b[0m\u001b[0menvpath\u001b[0m\u001b[0;34m)\u001b[0m\u001b[0;34m:\u001b[0m\u001b[0;34m\u001b[0m\u001b[0;34m\u001b[0m\u001b[0m\n",
            "\u001b[0;32m/usr/local/lib/python3.7/dist-packages/google/colab/drive.py\u001b[0m in \u001b[0;36mmount\u001b[0;34m(mountpoint, force_remount, timeout_ms, use_metadata_server)\u001b[0m\n\u001b[1;32m    111\u001b[0m       \u001b[0mtimeout_ms\u001b[0m\u001b[0;34m=\u001b[0m\u001b[0mtimeout_ms\u001b[0m\u001b[0;34m,\u001b[0m\u001b[0;34m\u001b[0m\u001b[0;34m\u001b[0m\u001b[0m\n\u001b[1;32m    112\u001b[0m       \u001b[0muse_metadata_server\u001b[0m\u001b[0;34m=\u001b[0m\u001b[0muse_metadata_server\u001b[0m\u001b[0;34m,\u001b[0m\u001b[0;34m\u001b[0m\u001b[0;34m\u001b[0m\u001b[0m\n\u001b[0;32m--> 113\u001b[0;31m       ephemeral=ephemeral)\n\u001b[0m\u001b[1;32m    114\u001b[0m \u001b[0;34m\u001b[0m\u001b[0m\n\u001b[1;32m    115\u001b[0m \u001b[0;34m\u001b[0m\u001b[0m\n",
            "\u001b[0;32m/usr/local/lib/python3.7/dist-packages/google/colab/drive.py\u001b[0m in \u001b[0;36m_mount\u001b[0;34m(mountpoint, force_remount, timeout_ms, use_metadata_server, ephemeral)\u001b[0m\n\u001b[1;32m    290\u001b[0m       \u001b[0;32mwith\u001b[0m \u001b[0m_output\u001b[0m\u001b[0;34m.\u001b[0m\u001b[0muse_tags\u001b[0m\u001b[0;34m(\u001b[0m\u001b[0;34m'dfs-auth-dance'\u001b[0m\u001b[0;34m)\u001b[0m\u001b[0;34m:\u001b[0m\u001b[0;34m\u001b[0m\u001b[0;34m\u001b[0m\u001b[0m\n\u001b[1;32m    291\u001b[0m         \u001b[0;32mwith\u001b[0m \u001b[0mopen\u001b[0m\u001b[0;34m(\u001b[0m\u001b[0mfifo\u001b[0m\u001b[0;34m,\u001b[0m \u001b[0;34m'w'\u001b[0m\u001b[0;34m)\u001b[0m \u001b[0;32mas\u001b[0m \u001b[0mfifo_file\u001b[0m\u001b[0;34m:\u001b[0m\u001b[0;34m\u001b[0m\u001b[0;34m\u001b[0m\u001b[0m\n\u001b[0;32m--> 292\u001b[0;31m           \u001b[0mfifo_file\u001b[0m\u001b[0;34m.\u001b[0m\u001b[0mwrite\u001b[0m\u001b[0;34m(\u001b[0m\u001b[0mget_code\u001b[0m\u001b[0;34m(\u001b[0m\u001b[0mauth_prompt\u001b[0m\u001b[0;34m)\u001b[0m \u001b[0;34m+\u001b[0m \u001b[0;34m'\\n'\u001b[0m\u001b[0;34m)\u001b[0m\u001b[0;34m\u001b[0m\u001b[0;34m\u001b[0m\u001b[0m\n\u001b[0m\u001b[1;32m    293\u001b[0m       \u001b[0mwrote_to_fifo\u001b[0m \u001b[0;34m=\u001b[0m \u001b[0;32mTrue\u001b[0m\u001b[0;34m\u001b[0m\u001b[0;34m\u001b[0m\u001b[0m\n\u001b[1;32m    294\u001b[0m     \u001b[0;32melif\u001b[0m \u001b[0mcase\u001b[0m \u001b[0;34m==\u001b[0m \u001b[0;36m5\u001b[0m\u001b[0;34m:\u001b[0m\u001b[0;34m\u001b[0m\u001b[0;34m\u001b[0m\u001b[0m\n",
            "\u001b[0;32m/usr/local/lib/python3.7/dist-packages/ipykernel/kernelbase.py\u001b[0m in \u001b[0;36mraw_input\u001b[0;34m(self, prompt)\u001b[0m\n\u001b[1;32m    702\u001b[0m             \u001b[0mself\u001b[0m\u001b[0;34m.\u001b[0m\u001b[0m_parent_ident\u001b[0m\u001b[0;34m,\u001b[0m\u001b[0;34m\u001b[0m\u001b[0;34m\u001b[0m\u001b[0m\n\u001b[1;32m    703\u001b[0m             \u001b[0mself\u001b[0m\u001b[0;34m.\u001b[0m\u001b[0m_parent_header\u001b[0m\u001b[0;34m,\u001b[0m\u001b[0;34m\u001b[0m\u001b[0;34m\u001b[0m\u001b[0m\n\u001b[0;32m--> 704\u001b[0;31m             \u001b[0mpassword\u001b[0m\u001b[0;34m=\u001b[0m\u001b[0;32mFalse\u001b[0m\u001b[0;34m,\u001b[0m\u001b[0;34m\u001b[0m\u001b[0;34m\u001b[0m\u001b[0m\n\u001b[0m\u001b[1;32m    705\u001b[0m         )\n\u001b[1;32m    706\u001b[0m \u001b[0;34m\u001b[0m\u001b[0m\n",
            "\u001b[0;32m/usr/local/lib/python3.7/dist-packages/ipykernel/kernelbase.py\u001b[0m in \u001b[0;36m_input_request\u001b[0;34m(self, prompt, ident, parent, password)\u001b[0m\n\u001b[1;32m    732\u001b[0m             \u001b[0;32mexcept\u001b[0m \u001b[0mKeyboardInterrupt\u001b[0m\u001b[0;34m:\u001b[0m\u001b[0;34m\u001b[0m\u001b[0;34m\u001b[0m\u001b[0m\n\u001b[1;32m    733\u001b[0m                 \u001b[0;31m# re-raise KeyboardInterrupt, to truncate traceback\u001b[0m\u001b[0;34m\u001b[0m\u001b[0;34m\u001b[0m\u001b[0;34m\u001b[0m\u001b[0m\n\u001b[0;32m--> 734\u001b[0;31m                 \u001b[0;32mraise\u001b[0m \u001b[0mKeyboardInterrupt\u001b[0m\u001b[0;34m\u001b[0m\u001b[0;34m\u001b[0m\u001b[0m\n\u001b[0m\u001b[1;32m    735\u001b[0m             \u001b[0;32melse\u001b[0m\u001b[0;34m:\u001b[0m\u001b[0;34m\u001b[0m\u001b[0;34m\u001b[0m\u001b[0m\n\u001b[1;32m    736\u001b[0m                 \u001b[0;32mbreak\u001b[0m\u001b[0;34m\u001b[0m\u001b[0;34m\u001b[0m\u001b[0m\n",
            "\u001b[0;31mKeyboardInterrupt\u001b[0m: "
          ]
        }
      ]
    },
    {
      "cell_type": "code",
      "metadata": {
        "id": "XKnCA6Eu1NTE"
      },
      "source": [
        "from dotenv import load_dotenv\n",
        "load_dotenv()\n",
        "myAPI = os.getenv(\"CENSUS_API\")\n",
        "subscription_key = os.getenv(\"GEO_SUB_KEY\")\n"
      ],
      "execution_count": null,
      "outputs": []
    },
    {
      "cell_type": "markdown",
      "metadata": {
        "id": "ABLMvGsq3R3i"
      },
      "source": [
        "Let's take a quick look at the [Census API website](https://www.census.gov/data/developers/data-sets.html)!  We're going to focus on the American Community Survey 5 year tables but as you can see, there are lots of different data products available via API, and once you've got the general structure down, it's pretty easy to adapt to the structure you need.  Variables for the detailed tables are available [here](https://api.census.gov/data/2019/acs/acs5/variables.html).  Example calls for geographies are [here](https://api.census.gov/data/2019/acs/acs5/examples.html).  Let's look at ZCTA and PUMA below."
      ]
    },
    {
      "cell_type": "markdown",
      "metadata": {
        "id": "DALh3hTesKSc"
      },
      "source": [
        "As you can see, there are a LOT of different features we can pull and at many different geography levels.  One thing we can do to make it a little easier is to read the variables into our program and filter down to the group we're interested in."
      ]
    },
    {
      "cell_type": "code",
      "metadata": {
        "id": "bj-DsGNW2NHh"
      },
      "source": [
        "#read variables\n",
        "acs_vars = pd.read_json('https://api.census.gov/data/2019/acs/acs5/variables.json')"
      ],
      "execution_count": null,
      "outputs": []
    },
    {
      "cell_type": "code",
      "metadata": {
        "id": "Qt9xu-3Ysknp",
        "colab": {
          "base_uri": "https://localhost:8080/",
          "height": 419
        },
        "outputId": "35c704ff-1858-42ec-9eee-6889ecaa374a"
      },
      "source": [
        "acs_vars"
      ],
      "execution_count": null,
      "outputs": [
        {
          "output_type": "execute_result",
          "data": {
            "text/html": [
              "<div>\n",
              "<style scoped>\n",
              "    .dataframe tbody tr th:only-of-type {\n",
              "        vertical-align: middle;\n",
              "    }\n",
              "\n",
              "    .dataframe tbody tr th {\n",
              "        vertical-align: top;\n",
              "    }\n",
              "\n",
              "    .dataframe thead th {\n",
              "        text-align: right;\n",
              "    }\n",
              "</style>\n",
              "<table border=\"1\" class=\"dataframe\">\n",
              "  <thead>\n",
              "    <tr style=\"text-align: right;\">\n",
              "      <th></th>\n",
              "      <th>variables</th>\n",
              "    </tr>\n",
              "  </thead>\n",
              "  <tbody>\n",
              "    <tr>\n",
              "      <th>AIANHH</th>\n",
              "      <td>{'label': 'Geography', 'group': 'N/A', 'limit'...</td>\n",
              "    </tr>\n",
              "    <tr>\n",
              "      <th>AIHHTL</th>\n",
              "      <td>{'label': 'Geography', 'group': 'N/A', 'limit'...</td>\n",
              "    </tr>\n",
              "    <tr>\n",
              "      <th>AIRES</th>\n",
              "      <td>{'label': 'Geography', 'group': 'N/A', 'limit'...</td>\n",
              "    </tr>\n",
              "    <tr>\n",
              "      <th>ANRC</th>\n",
              "      <td>{'label': 'Geography', 'group': 'N/A', 'limit'...</td>\n",
              "    </tr>\n",
              "    <tr>\n",
              "      <th>B01001A_001E</th>\n",
              "      <td>{'label': 'Estimate!!Total:', 'concept': 'SEX ...</td>\n",
              "    </tr>\n",
              "    <tr>\n",
              "      <th>...</th>\n",
              "      <td>...</td>\n",
              "    </tr>\n",
              "    <tr>\n",
              "      <th>UA</th>\n",
              "      <td>{'label': 'Geography', 'group': 'N/A', 'limit'...</td>\n",
              "    </tr>\n",
              "    <tr>\n",
              "      <th>ZCTA</th>\n",
              "      <td>{'label': 'Geography', 'group': 'N/A', 'limit'...</td>\n",
              "    </tr>\n",
              "    <tr>\n",
              "      <th>for</th>\n",
              "      <td>{'label': 'Census API FIPS 'for' clause', 'con...</td>\n",
              "    </tr>\n",
              "    <tr>\n",
              "      <th>in</th>\n",
              "      <td>{'label': 'Census API FIPS 'in' clause', 'conc...</td>\n",
              "    </tr>\n",
              "    <tr>\n",
              "      <th>ucgid</th>\n",
              "      <td>{'label': 'Uniform Census Geography Identifier...</td>\n",
              "    </tr>\n",
              "  </tbody>\n",
              "</table>\n",
              "<p>27080 rows × 1 columns</p>\n",
              "</div>"
            ],
            "text/plain": [
              "                                                      variables\n",
              "AIANHH        {'label': 'Geography', 'group': 'N/A', 'limit'...\n",
              "AIHHTL        {'label': 'Geography', 'group': 'N/A', 'limit'...\n",
              "AIRES         {'label': 'Geography', 'group': 'N/A', 'limit'...\n",
              "ANRC          {'label': 'Geography', 'group': 'N/A', 'limit'...\n",
              "B01001A_001E  {'label': 'Estimate!!Total:', 'concept': 'SEX ...\n",
              "...                                                         ...\n",
              "UA            {'label': 'Geography', 'group': 'N/A', 'limit'...\n",
              "ZCTA          {'label': 'Geography', 'group': 'N/A', 'limit'...\n",
              "for           {'label': 'Census API FIPS 'for' clause', 'con...\n",
              "in            {'label': 'Census API FIPS 'in' clause', 'conc...\n",
              "ucgid         {'label': 'Uniform Census Geography Identifier...\n",
              "\n",
              "[27080 rows x 1 columns]"
            ]
          },
          "metadata": {},
          "execution_count": 11
        }
      ]
    },
    {
      "cell_type": "code",
      "metadata": {
        "id": "wwutdFQS3aK6"
      },
      "source": [
        "#transform the json into a flatter file.\n",
        "acs_vars = pd.concat([acs_vars.drop(['variables'], axis=1), acs_vars['variables'].apply(pd.Series)], axis=1).reset_index()"
      ],
      "execution_count": null,
      "outputs": []
    },
    {
      "cell_type": "code",
      "metadata": {
        "colab": {
          "base_uri": "https://localhost:8080/",
          "height": 979
        },
        "id": "jAFXU-Jy3mtO",
        "outputId": "ab7e1c48-1cec-4c7b-98ad-8bfb9ab89e3b"
      },
      "source": [
        "acs_vars.head(30)"
      ],
      "execution_count": null,
      "outputs": [
        {
          "output_type": "execute_result",
          "data": {
            "text/html": [
              "<div>\n",
              "<style scoped>\n",
              "    .dataframe tbody tr th:only-of-type {\n",
              "        vertical-align: middle;\n",
              "    }\n",
              "\n",
              "    .dataframe tbody tr th {\n",
              "        vertical-align: top;\n",
              "    }\n",
              "\n",
              "    .dataframe thead th {\n",
              "        text-align: right;\n",
              "    }\n",
              "</style>\n",
              "<table border=\"1\" class=\"dataframe\">\n",
              "  <thead>\n",
              "    <tr style=\"text-align: right;\">\n",
              "      <th></th>\n",
              "      <th>index</th>\n",
              "      <th>label</th>\n",
              "      <th>group</th>\n",
              "      <th>limit</th>\n",
              "      <th>concept</th>\n",
              "      <th>predicateType</th>\n",
              "      <th>attributes</th>\n",
              "      <th>required</th>\n",
              "      <th>predicateOnly</th>\n",
              "    </tr>\n",
              "  </thead>\n",
              "  <tbody>\n",
              "    <tr>\n",
              "      <th>0</th>\n",
              "      <td>AIANHH</td>\n",
              "      <td>Geography</td>\n",
              "      <td>N/A</td>\n",
              "      <td>0</td>\n",
              "      <td>NaN</td>\n",
              "      <td>NaN</td>\n",
              "      <td>NaN</td>\n",
              "      <td>NaN</td>\n",
              "      <td>NaN</td>\n",
              "    </tr>\n",
              "    <tr>\n",
              "      <th>1</th>\n",
              "      <td>AIHHTL</td>\n",
              "      <td>Geography</td>\n",
              "      <td>N/A</td>\n",
              "      <td>0</td>\n",
              "      <td>NaN</td>\n",
              "      <td>NaN</td>\n",
              "      <td>NaN</td>\n",
              "      <td>NaN</td>\n",
              "      <td>NaN</td>\n",
              "    </tr>\n",
              "    <tr>\n",
              "      <th>2</th>\n",
              "      <td>AIRES</td>\n",
              "      <td>Geography</td>\n",
              "      <td>N/A</td>\n",
              "      <td>0</td>\n",
              "      <td>NaN</td>\n",
              "      <td>NaN</td>\n",
              "      <td>NaN</td>\n",
              "      <td>NaN</td>\n",
              "      <td>NaN</td>\n",
              "    </tr>\n",
              "    <tr>\n",
              "      <th>3</th>\n",
              "      <td>ANRC</td>\n",
              "      <td>Geography</td>\n",
              "      <td>N/A</td>\n",
              "      <td>0</td>\n",
              "      <td>NaN</td>\n",
              "      <td>NaN</td>\n",
              "      <td>NaN</td>\n",
              "      <td>NaN</td>\n",
              "      <td>NaN</td>\n",
              "    </tr>\n",
              "    <tr>\n",
              "      <th>4</th>\n",
              "      <td>B01001A_001E</td>\n",
              "      <td>Estimate!!Total:</td>\n",
              "      <td>B01001A</td>\n",
              "      <td>0</td>\n",
              "      <td>SEX BY AGE (WHITE ALONE)</td>\n",
              "      <td>int</td>\n",
              "      <td>B01001A_001EA,B01001A_001M,B01001A_001MA</td>\n",
              "      <td>NaN</td>\n",
              "      <td>NaN</td>\n",
              "    </tr>\n",
              "    <tr>\n",
              "      <th>5</th>\n",
              "      <td>B01001A_002E</td>\n",
              "      <td>Estimate!!Total:!!Male:</td>\n",
              "      <td>B01001A</td>\n",
              "      <td>0</td>\n",
              "      <td>SEX BY AGE (WHITE ALONE)</td>\n",
              "      <td>int</td>\n",
              "      <td>B01001A_002EA,B01001A_002M,B01001A_002MA</td>\n",
              "      <td>NaN</td>\n",
              "      <td>NaN</td>\n",
              "    </tr>\n",
              "    <tr>\n",
              "      <th>6</th>\n",
              "      <td>B01001A_003E</td>\n",
              "      <td>Estimate!!Total:!!Male:!!Under 5 years</td>\n",
              "      <td>B01001A</td>\n",
              "      <td>0</td>\n",
              "      <td>SEX BY AGE (WHITE ALONE)</td>\n",
              "      <td>int</td>\n",
              "      <td>B01001A_003EA,B01001A_003M,B01001A_003MA</td>\n",
              "      <td>NaN</td>\n",
              "      <td>NaN</td>\n",
              "    </tr>\n",
              "    <tr>\n",
              "      <th>7</th>\n",
              "      <td>B01001A_004E</td>\n",
              "      <td>Estimate!!Total:!!Male:!!5 to 9 years</td>\n",
              "      <td>B01001A</td>\n",
              "      <td>0</td>\n",
              "      <td>SEX BY AGE (WHITE ALONE)</td>\n",
              "      <td>int</td>\n",
              "      <td>B01001A_004EA,B01001A_004M,B01001A_004MA</td>\n",
              "      <td>NaN</td>\n",
              "      <td>NaN</td>\n",
              "    </tr>\n",
              "    <tr>\n",
              "      <th>8</th>\n",
              "      <td>B01001A_005E</td>\n",
              "      <td>Estimate!!Total:!!Male:!!10 to 14 years</td>\n",
              "      <td>B01001A</td>\n",
              "      <td>0</td>\n",
              "      <td>SEX BY AGE (WHITE ALONE)</td>\n",
              "      <td>int</td>\n",
              "      <td>B01001A_005EA,B01001A_005M,B01001A_005MA</td>\n",
              "      <td>NaN</td>\n",
              "      <td>NaN</td>\n",
              "    </tr>\n",
              "    <tr>\n",
              "      <th>9</th>\n",
              "      <td>B01001A_006E</td>\n",
              "      <td>Estimate!!Total:!!Male:!!15 to 17 years</td>\n",
              "      <td>B01001A</td>\n",
              "      <td>0</td>\n",
              "      <td>SEX BY AGE (WHITE ALONE)</td>\n",
              "      <td>int</td>\n",
              "      <td>B01001A_006EA,B01001A_006M,B01001A_006MA</td>\n",
              "      <td>NaN</td>\n",
              "      <td>NaN</td>\n",
              "    </tr>\n",
              "    <tr>\n",
              "      <th>10</th>\n",
              "      <td>B01001A_007E</td>\n",
              "      <td>Estimate!!Total:!!Male:!!18 and 19 years</td>\n",
              "      <td>B01001A</td>\n",
              "      <td>0</td>\n",
              "      <td>SEX BY AGE (WHITE ALONE)</td>\n",
              "      <td>int</td>\n",
              "      <td>B01001A_007EA,B01001A_007M,B01001A_007MA</td>\n",
              "      <td>NaN</td>\n",
              "      <td>NaN</td>\n",
              "    </tr>\n",
              "    <tr>\n",
              "      <th>11</th>\n",
              "      <td>B01001A_008E</td>\n",
              "      <td>Estimate!!Total:!!Male:!!20 to 24 years</td>\n",
              "      <td>B01001A</td>\n",
              "      <td>0</td>\n",
              "      <td>SEX BY AGE (WHITE ALONE)</td>\n",
              "      <td>int</td>\n",
              "      <td>B01001A_008EA,B01001A_008M,B01001A_008MA</td>\n",
              "      <td>NaN</td>\n",
              "      <td>NaN</td>\n",
              "    </tr>\n",
              "    <tr>\n",
              "      <th>12</th>\n",
              "      <td>B01001A_009E</td>\n",
              "      <td>Estimate!!Total:!!Male:!!25 to 29 years</td>\n",
              "      <td>B01001A</td>\n",
              "      <td>0</td>\n",
              "      <td>SEX BY AGE (WHITE ALONE)</td>\n",
              "      <td>int</td>\n",
              "      <td>B01001A_009EA,B01001A_009M,B01001A_009MA</td>\n",
              "      <td>NaN</td>\n",
              "      <td>NaN</td>\n",
              "    </tr>\n",
              "    <tr>\n",
              "      <th>13</th>\n",
              "      <td>B01001A_010E</td>\n",
              "      <td>Estimate!!Total:!!Male:!!30 to 34 years</td>\n",
              "      <td>B01001A</td>\n",
              "      <td>0</td>\n",
              "      <td>SEX BY AGE (WHITE ALONE)</td>\n",
              "      <td>int</td>\n",
              "      <td>B01001A_010EA,B01001A_010M,B01001A_010MA</td>\n",
              "      <td>NaN</td>\n",
              "      <td>NaN</td>\n",
              "    </tr>\n",
              "    <tr>\n",
              "      <th>14</th>\n",
              "      <td>B01001A_011E</td>\n",
              "      <td>Estimate!!Total:!!Male:!!35 to 44 years</td>\n",
              "      <td>B01001A</td>\n",
              "      <td>0</td>\n",
              "      <td>SEX BY AGE (WHITE ALONE)</td>\n",
              "      <td>int</td>\n",
              "      <td>B01001A_011EA,B01001A_011M,B01001A_011MA</td>\n",
              "      <td>NaN</td>\n",
              "      <td>NaN</td>\n",
              "    </tr>\n",
              "    <tr>\n",
              "      <th>15</th>\n",
              "      <td>B01001A_012E</td>\n",
              "      <td>Estimate!!Total:!!Male:!!45 to 54 years</td>\n",
              "      <td>B01001A</td>\n",
              "      <td>0</td>\n",
              "      <td>SEX BY AGE (WHITE ALONE)</td>\n",
              "      <td>int</td>\n",
              "      <td>B01001A_012EA,B01001A_012M,B01001A_012MA</td>\n",
              "      <td>NaN</td>\n",
              "      <td>NaN</td>\n",
              "    </tr>\n",
              "    <tr>\n",
              "      <th>16</th>\n",
              "      <td>B01001A_013E</td>\n",
              "      <td>Estimate!!Total:!!Male:!!55 to 64 years</td>\n",
              "      <td>B01001A</td>\n",
              "      <td>0</td>\n",
              "      <td>SEX BY AGE (WHITE ALONE)</td>\n",
              "      <td>int</td>\n",
              "      <td>B01001A_013EA,B01001A_013M,B01001A_013MA</td>\n",
              "      <td>NaN</td>\n",
              "      <td>NaN</td>\n",
              "    </tr>\n",
              "    <tr>\n",
              "      <th>17</th>\n",
              "      <td>B01001A_014E</td>\n",
              "      <td>Estimate!!Total:!!Male:!!65 to 74 years</td>\n",
              "      <td>B01001A</td>\n",
              "      <td>0</td>\n",
              "      <td>SEX BY AGE (WHITE ALONE)</td>\n",
              "      <td>int</td>\n",
              "      <td>B01001A_014EA,B01001A_014M,B01001A_014MA</td>\n",
              "      <td>NaN</td>\n",
              "      <td>NaN</td>\n",
              "    </tr>\n",
              "    <tr>\n",
              "      <th>18</th>\n",
              "      <td>B01001A_015E</td>\n",
              "      <td>Estimate!!Total:!!Male:!!75 to 84 years</td>\n",
              "      <td>B01001A</td>\n",
              "      <td>0</td>\n",
              "      <td>SEX BY AGE (WHITE ALONE)</td>\n",
              "      <td>int</td>\n",
              "      <td>B01001A_015EA,B01001A_015M,B01001A_015MA</td>\n",
              "      <td>NaN</td>\n",
              "      <td>NaN</td>\n",
              "    </tr>\n",
              "    <tr>\n",
              "      <th>19</th>\n",
              "      <td>B01001A_016E</td>\n",
              "      <td>Estimate!!Total:!!Male:!!85 years and over</td>\n",
              "      <td>B01001A</td>\n",
              "      <td>0</td>\n",
              "      <td>SEX BY AGE (WHITE ALONE)</td>\n",
              "      <td>int</td>\n",
              "      <td>B01001A_016EA,B01001A_016M,B01001A_016MA</td>\n",
              "      <td>NaN</td>\n",
              "      <td>NaN</td>\n",
              "    </tr>\n",
              "    <tr>\n",
              "      <th>20</th>\n",
              "      <td>B01001A_017E</td>\n",
              "      <td>Estimate!!Total:!!Female:</td>\n",
              "      <td>B01001A</td>\n",
              "      <td>0</td>\n",
              "      <td>SEX BY AGE (WHITE ALONE)</td>\n",
              "      <td>int</td>\n",
              "      <td>B01001A_017EA,B01001A_017M,B01001A_017MA</td>\n",
              "      <td>NaN</td>\n",
              "      <td>NaN</td>\n",
              "    </tr>\n",
              "    <tr>\n",
              "      <th>21</th>\n",
              "      <td>B01001A_018E</td>\n",
              "      <td>Estimate!!Total:!!Female:!!Under 5 years</td>\n",
              "      <td>B01001A</td>\n",
              "      <td>0</td>\n",
              "      <td>SEX BY AGE (WHITE ALONE)</td>\n",
              "      <td>int</td>\n",
              "      <td>B01001A_018EA,B01001A_018M,B01001A_018MA</td>\n",
              "      <td>NaN</td>\n",
              "      <td>NaN</td>\n",
              "    </tr>\n",
              "    <tr>\n",
              "      <th>22</th>\n",
              "      <td>B01001A_019E</td>\n",
              "      <td>Estimate!!Total:!!Female:!!5 to 9 years</td>\n",
              "      <td>B01001A</td>\n",
              "      <td>0</td>\n",
              "      <td>SEX BY AGE (WHITE ALONE)</td>\n",
              "      <td>int</td>\n",
              "      <td>B01001A_019EA,B01001A_019M,B01001A_019MA</td>\n",
              "      <td>NaN</td>\n",
              "      <td>NaN</td>\n",
              "    </tr>\n",
              "    <tr>\n",
              "      <th>23</th>\n",
              "      <td>B01001A_020E</td>\n",
              "      <td>Estimate!!Total:!!Female:!!10 to 14 years</td>\n",
              "      <td>B01001A</td>\n",
              "      <td>0</td>\n",
              "      <td>SEX BY AGE (WHITE ALONE)</td>\n",
              "      <td>int</td>\n",
              "      <td>B01001A_020EA,B01001A_020M,B01001A_020MA</td>\n",
              "      <td>NaN</td>\n",
              "      <td>NaN</td>\n",
              "    </tr>\n",
              "    <tr>\n",
              "      <th>24</th>\n",
              "      <td>B01001A_021E</td>\n",
              "      <td>Estimate!!Total:!!Female:!!15 to 17 years</td>\n",
              "      <td>B01001A</td>\n",
              "      <td>0</td>\n",
              "      <td>SEX BY AGE (WHITE ALONE)</td>\n",
              "      <td>int</td>\n",
              "      <td>B01001A_021EA,B01001A_021M,B01001A_021MA</td>\n",
              "      <td>NaN</td>\n",
              "      <td>NaN</td>\n",
              "    </tr>\n",
              "    <tr>\n",
              "      <th>25</th>\n",
              "      <td>B01001A_022E</td>\n",
              "      <td>Estimate!!Total:!!Female:!!18 and 19 years</td>\n",
              "      <td>B01001A</td>\n",
              "      <td>0</td>\n",
              "      <td>SEX BY AGE (WHITE ALONE)</td>\n",
              "      <td>int</td>\n",
              "      <td>B01001A_022EA,B01001A_022M,B01001A_022MA</td>\n",
              "      <td>NaN</td>\n",
              "      <td>NaN</td>\n",
              "    </tr>\n",
              "    <tr>\n",
              "      <th>26</th>\n",
              "      <td>B01001A_023E</td>\n",
              "      <td>Estimate!!Total:!!Female:!!20 to 24 years</td>\n",
              "      <td>B01001A</td>\n",
              "      <td>0</td>\n",
              "      <td>SEX BY AGE (WHITE ALONE)</td>\n",
              "      <td>int</td>\n",
              "      <td>B01001A_023EA,B01001A_023M,B01001A_023MA</td>\n",
              "      <td>NaN</td>\n",
              "      <td>NaN</td>\n",
              "    </tr>\n",
              "    <tr>\n",
              "      <th>27</th>\n",
              "      <td>B01001A_024E</td>\n",
              "      <td>Estimate!!Total:!!Female:!!25 to 29 years</td>\n",
              "      <td>B01001A</td>\n",
              "      <td>0</td>\n",
              "      <td>SEX BY AGE (WHITE ALONE)</td>\n",
              "      <td>int</td>\n",
              "      <td>B01001A_024EA,B01001A_024M,B01001A_024MA</td>\n",
              "      <td>NaN</td>\n",
              "      <td>NaN</td>\n",
              "    </tr>\n",
              "    <tr>\n",
              "      <th>28</th>\n",
              "      <td>B01001A_025E</td>\n",
              "      <td>Estimate!!Total:!!Female:!!30 to 34 years</td>\n",
              "      <td>B01001A</td>\n",
              "      <td>0</td>\n",
              "      <td>SEX BY AGE (WHITE ALONE)</td>\n",
              "      <td>int</td>\n",
              "      <td>B01001A_025EA,B01001A_025M,B01001A_025MA</td>\n",
              "      <td>NaN</td>\n",
              "      <td>NaN</td>\n",
              "    </tr>\n",
              "    <tr>\n",
              "      <th>29</th>\n",
              "      <td>B01001A_026E</td>\n",
              "      <td>Estimate!!Total:!!Female:!!35 to 44 years</td>\n",
              "      <td>B01001A</td>\n",
              "      <td>0</td>\n",
              "      <td>SEX BY AGE (WHITE ALONE)</td>\n",
              "      <td>int</td>\n",
              "      <td>B01001A_026EA,B01001A_026M,B01001A_026MA</td>\n",
              "      <td>NaN</td>\n",
              "      <td>NaN</td>\n",
              "    </tr>\n",
              "  </tbody>\n",
              "</table>\n",
              "</div>"
            ],
            "text/plain": [
              "           index  ... predicateOnly\n",
              "0         AIANHH  ...           NaN\n",
              "1         AIHHTL  ...           NaN\n",
              "2          AIRES  ...           NaN\n",
              "3           ANRC  ...           NaN\n",
              "4   B01001A_001E  ...           NaN\n",
              "5   B01001A_002E  ...           NaN\n",
              "6   B01001A_003E  ...           NaN\n",
              "7   B01001A_004E  ...           NaN\n",
              "8   B01001A_005E  ...           NaN\n",
              "9   B01001A_006E  ...           NaN\n",
              "10  B01001A_007E  ...           NaN\n",
              "11  B01001A_008E  ...           NaN\n",
              "12  B01001A_009E  ...           NaN\n",
              "13  B01001A_010E  ...           NaN\n",
              "14  B01001A_011E  ...           NaN\n",
              "15  B01001A_012E  ...           NaN\n",
              "16  B01001A_013E  ...           NaN\n",
              "17  B01001A_014E  ...           NaN\n",
              "18  B01001A_015E  ...           NaN\n",
              "19  B01001A_016E  ...           NaN\n",
              "20  B01001A_017E  ...           NaN\n",
              "21  B01001A_018E  ...           NaN\n",
              "22  B01001A_019E  ...           NaN\n",
              "23  B01001A_020E  ...           NaN\n",
              "24  B01001A_021E  ...           NaN\n",
              "25  B01001A_022E  ...           NaN\n",
              "26  B01001A_023E  ...           NaN\n",
              "27  B01001A_024E  ...           NaN\n",
              "28  B01001A_025E  ...           NaN\n",
              "29  B01001A_026E  ...           NaN\n",
              "\n",
              "[30 rows x 9 columns]"
            ]
          },
          "metadata": {},
          "execution_count": 13
        }
      ]
    },
    {
      "cell_type": "code",
      "metadata": {
        "id": "YCra_jNj4OmR"
      },
      "source": [
        "school = acs_vars[acs_vars.group == 'B14003'][['index', 'label']]"
      ],
      "execution_count": null,
      "outputs": []
    },
    {
      "cell_type": "code",
      "metadata": {
        "colab": {
          "base_uri": "https://localhost:8080/",
          "height": 1000
        },
        "id": "ljzzIaZx4Z2c",
        "outputId": "2616c572-d828-4148-ac96-dea2d66df46f"
      },
      "source": [
        "pd.set_option('max_colwidth', 400)\n",
        "school"
      ],
      "execution_count": null,
      "outputs": [
        {
          "output_type": "execute_result",
          "data": {
            "text/html": [
              "<div>\n",
              "<style scoped>\n",
              "    .dataframe tbody tr th:only-of-type {\n",
              "        vertical-align: middle;\n",
              "    }\n",
              "\n",
              "    .dataframe tbody tr th {\n",
              "        vertical-align: top;\n",
              "    }\n",
              "\n",
              "    .dataframe thead th {\n",
              "        text-align: right;\n",
              "    }\n",
              "</style>\n",
              "<table border=\"1\" class=\"dataframe\">\n",
              "  <thead>\n",
              "    <tr style=\"text-align: right;\">\n",
              "      <th></th>\n",
              "      <th>index</th>\n",
              "      <th>label</th>\n",
              "    </tr>\n",
              "  </thead>\n",
              "  <tbody>\n",
              "    <tr>\n",
              "      <th>7710</th>\n",
              "      <td>B14003_001E</td>\n",
              "      <td>Estimate!!Total:</td>\n",
              "    </tr>\n",
              "    <tr>\n",
              "      <th>7711</th>\n",
              "      <td>B14003_002E</td>\n",
              "      <td>Estimate!!Total:!!Male:</td>\n",
              "    </tr>\n",
              "    <tr>\n",
              "      <th>7712</th>\n",
              "      <td>B14003_003E</td>\n",
              "      <td>Estimate!!Total:!!Male:!!Enrolled in public school:</td>\n",
              "    </tr>\n",
              "    <tr>\n",
              "      <th>7713</th>\n",
              "      <td>B14003_004E</td>\n",
              "      <td>Estimate!!Total:!!Male:!!Enrolled in public school:!!3 and 4 years</td>\n",
              "    </tr>\n",
              "    <tr>\n",
              "      <th>7714</th>\n",
              "      <td>B14003_005E</td>\n",
              "      <td>Estimate!!Total:!!Male:!!Enrolled in public school:!!5 to 9 years</td>\n",
              "    </tr>\n",
              "    <tr>\n",
              "      <th>7715</th>\n",
              "      <td>B14003_006E</td>\n",
              "      <td>Estimate!!Total:!!Male:!!Enrolled in public school:!!10 to 14 years</td>\n",
              "    </tr>\n",
              "    <tr>\n",
              "      <th>7716</th>\n",
              "      <td>B14003_007E</td>\n",
              "      <td>Estimate!!Total:!!Male:!!Enrolled in public school:!!15 to 17 years</td>\n",
              "    </tr>\n",
              "    <tr>\n",
              "      <th>7717</th>\n",
              "      <td>B14003_008E</td>\n",
              "      <td>Estimate!!Total:!!Male:!!Enrolled in public school:!!18 and 19 years</td>\n",
              "    </tr>\n",
              "    <tr>\n",
              "      <th>7718</th>\n",
              "      <td>B14003_009E</td>\n",
              "      <td>Estimate!!Total:!!Male:!!Enrolled in public school:!!20 to 24 years</td>\n",
              "    </tr>\n",
              "    <tr>\n",
              "      <th>7719</th>\n",
              "      <td>B14003_010E</td>\n",
              "      <td>Estimate!!Total:!!Male:!!Enrolled in public school:!!25 to 34 years</td>\n",
              "    </tr>\n",
              "    <tr>\n",
              "      <th>7720</th>\n",
              "      <td>B14003_011E</td>\n",
              "      <td>Estimate!!Total:!!Male:!!Enrolled in public school:!!35 years and over</td>\n",
              "    </tr>\n",
              "    <tr>\n",
              "      <th>7721</th>\n",
              "      <td>B14003_012E</td>\n",
              "      <td>Estimate!!Total:!!Male:!!Enrolled in private school:</td>\n",
              "    </tr>\n",
              "    <tr>\n",
              "      <th>7722</th>\n",
              "      <td>B14003_013E</td>\n",
              "      <td>Estimate!!Total:!!Male:!!Enrolled in private school:!!3 and 4 years</td>\n",
              "    </tr>\n",
              "    <tr>\n",
              "      <th>7723</th>\n",
              "      <td>B14003_014E</td>\n",
              "      <td>Estimate!!Total:!!Male:!!Enrolled in private school:!!5 to 9 years</td>\n",
              "    </tr>\n",
              "    <tr>\n",
              "      <th>7724</th>\n",
              "      <td>B14003_015E</td>\n",
              "      <td>Estimate!!Total:!!Male:!!Enrolled in private school:!!10 to 14 years</td>\n",
              "    </tr>\n",
              "    <tr>\n",
              "      <th>7725</th>\n",
              "      <td>B14003_016E</td>\n",
              "      <td>Estimate!!Total:!!Male:!!Enrolled in private school:!!15 to 17 years</td>\n",
              "    </tr>\n",
              "    <tr>\n",
              "      <th>7726</th>\n",
              "      <td>B14003_017E</td>\n",
              "      <td>Estimate!!Total:!!Male:!!Enrolled in private school:!!18 and 19 years</td>\n",
              "    </tr>\n",
              "    <tr>\n",
              "      <th>7727</th>\n",
              "      <td>B14003_018E</td>\n",
              "      <td>Estimate!!Total:!!Male:!!Enrolled in private school:!!20 to 24 years</td>\n",
              "    </tr>\n",
              "    <tr>\n",
              "      <th>7728</th>\n",
              "      <td>B14003_019E</td>\n",
              "      <td>Estimate!!Total:!!Male:!!Enrolled in private school:!!25 to 34 years</td>\n",
              "    </tr>\n",
              "    <tr>\n",
              "      <th>7729</th>\n",
              "      <td>B14003_020E</td>\n",
              "      <td>Estimate!!Total:!!Male:!!Enrolled in private school:!!35 years and over</td>\n",
              "    </tr>\n",
              "    <tr>\n",
              "      <th>7730</th>\n",
              "      <td>B14003_021E</td>\n",
              "      <td>Estimate!!Total:!!Male:!!Not enrolled in school:</td>\n",
              "    </tr>\n",
              "    <tr>\n",
              "      <th>7731</th>\n",
              "      <td>B14003_022E</td>\n",
              "      <td>Estimate!!Total:!!Male:!!Not enrolled in school:!!3 and 4 years</td>\n",
              "    </tr>\n",
              "    <tr>\n",
              "      <th>7732</th>\n",
              "      <td>B14003_023E</td>\n",
              "      <td>Estimate!!Total:!!Male:!!Not enrolled in school:!!5 to 9 years</td>\n",
              "    </tr>\n",
              "    <tr>\n",
              "      <th>7733</th>\n",
              "      <td>B14003_024E</td>\n",
              "      <td>Estimate!!Total:!!Male:!!Not enrolled in school:!!10 to 14 years</td>\n",
              "    </tr>\n",
              "    <tr>\n",
              "      <th>7734</th>\n",
              "      <td>B14003_025E</td>\n",
              "      <td>Estimate!!Total:!!Male:!!Not enrolled in school:!!15 to 17 years</td>\n",
              "    </tr>\n",
              "    <tr>\n",
              "      <th>7735</th>\n",
              "      <td>B14003_026E</td>\n",
              "      <td>Estimate!!Total:!!Male:!!Not enrolled in school:!!18 and 19 years</td>\n",
              "    </tr>\n",
              "    <tr>\n",
              "      <th>7736</th>\n",
              "      <td>B14003_027E</td>\n",
              "      <td>Estimate!!Total:!!Male:!!Not enrolled in school:!!20 to 24 years</td>\n",
              "    </tr>\n",
              "    <tr>\n",
              "      <th>7737</th>\n",
              "      <td>B14003_028E</td>\n",
              "      <td>Estimate!!Total:!!Male:!!Not enrolled in school:!!25 to 34 years</td>\n",
              "    </tr>\n",
              "    <tr>\n",
              "      <th>7738</th>\n",
              "      <td>B14003_029E</td>\n",
              "      <td>Estimate!!Total:!!Male:!!Not enrolled in school:!!35 years and over</td>\n",
              "    </tr>\n",
              "    <tr>\n",
              "      <th>7739</th>\n",
              "      <td>B14003_030E</td>\n",
              "      <td>Estimate!!Total:!!Female:</td>\n",
              "    </tr>\n",
              "    <tr>\n",
              "      <th>7740</th>\n",
              "      <td>B14003_031E</td>\n",
              "      <td>Estimate!!Total:!!Female:!!Enrolled in public school:</td>\n",
              "    </tr>\n",
              "    <tr>\n",
              "      <th>7741</th>\n",
              "      <td>B14003_032E</td>\n",
              "      <td>Estimate!!Total:!!Female:!!Enrolled in public school:!!3 and 4 years</td>\n",
              "    </tr>\n",
              "    <tr>\n",
              "      <th>7742</th>\n",
              "      <td>B14003_033E</td>\n",
              "      <td>Estimate!!Total:!!Female:!!Enrolled in public school:!!5 to 9 years</td>\n",
              "    </tr>\n",
              "    <tr>\n",
              "      <th>7743</th>\n",
              "      <td>B14003_034E</td>\n",
              "      <td>Estimate!!Total:!!Female:!!Enrolled in public school:!!10 to 14 years</td>\n",
              "    </tr>\n",
              "    <tr>\n",
              "      <th>7744</th>\n",
              "      <td>B14003_035E</td>\n",
              "      <td>Estimate!!Total:!!Female:!!Enrolled in public school:!!15 to 17 years</td>\n",
              "    </tr>\n",
              "    <tr>\n",
              "      <th>7745</th>\n",
              "      <td>B14003_036E</td>\n",
              "      <td>Estimate!!Total:!!Female:!!Enrolled in public school:!!18 and 19 years</td>\n",
              "    </tr>\n",
              "    <tr>\n",
              "      <th>7746</th>\n",
              "      <td>B14003_037E</td>\n",
              "      <td>Estimate!!Total:!!Female:!!Enrolled in public school:!!20 to 24 years</td>\n",
              "    </tr>\n",
              "    <tr>\n",
              "      <th>7747</th>\n",
              "      <td>B14003_038E</td>\n",
              "      <td>Estimate!!Total:!!Female:!!Enrolled in public school:!!25 to 34 years</td>\n",
              "    </tr>\n",
              "    <tr>\n",
              "      <th>7748</th>\n",
              "      <td>B14003_039E</td>\n",
              "      <td>Estimate!!Total:!!Female:!!Enrolled in public school:!!35 years and over</td>\n",
              "    </tr>\n",
              "    <tr>\n",
              "      <th>7749</th>\n",
              "      <td>B14003_040E</td>\n",
              "      <td>Estimate!!Total:!!Female:!!Enrolled in private school:</td>\n",
              "    </tr>\n",
              "    <tr>\n",
              "      <th>7750</th>\n",
              "      <td>B14003_041E</td>\n",
              "      <td>Estimate!!Total:!!Female:!!Enrolled in private school:!!3 and 4 years</td>\n",
              "    </tr>\n",
              "    <tr>\n",
              "      <th>7751</th>\n",
              "      <td>B14003_042E</td>\n",
              "      <td>Estimate!!Total:!!Female:!!Enrolled in private school:!!5 to 9 years</td>\n",
              "    </tr>\n",
              "    <tr>\n",
              "      <th>7752</th>\n",
              "      <td>B14003_043E</td>\n",
              "      <td>Estimate!!Total:!!Female:!!Enrolled in private school:!!10 to 14 years</td>\n",
              "    </tr>\n",
              "    <tr>\n",
              "      <th>7753</th>\n",
              "      <td>B14003_044E</td>\n",
              "      <td>Estimate!!Total:!!Female:!!Enrolled in private school:!!15 to 17 years</td>\n",
              "    </tr>\n",
              "    <tr>\n",
              "      <th>7754</th>\n",
              "      <td>B14003_045E</td>\n",
              "      <td>Estimate!!Total:!!Female:!!Enrolled in private school:!!18 and 19 years</td>\n",
              "    </tr>\n",
              "    <tr>\n",
              "      <th>7755</th>\n",
              "      <td>B14003_046E</td>\n",
              "      <td>Estimate!!Total:!!Female:!!Enrolled in private school:!!20 to 24 years</td>\n",
              "    </tr>\n",
              "    <tr>\n",
              "      <th>7756</th>\n",
              "      <td>B14003_047E</td>\n",
              "      <td>Estimate!!Total:!!Female:!!Enrolled in private school:!!25 to 34 years</td>\n",
              "    </tr>\n",
              "    <tr>\n",
              "      <th>7757</th>\n",
              "      <td>B14003_048E</td>\n",
              "      <td>Estimate!!Total:!!Female:!!Enrolled in private school:!!35 years and over</td>\n",
              "    </tr>\n",
              "    <tr>\n",
              "      <th>7758</th>\n",
              "      <td>B14003_049E</td>\n",
              "      <td>Estimate!!Total:!!Female:!!Not enrolled in school:</td>\n",
              "    </tr>\n",
              "    <tr>\n",
              "      <th>7759</th>\n",
              "      <td>B14003_050E</td>\n",
              "      <td>Estimate!!Total:!!Female:!!Not enrolled in school:!!3 and 4 years</td>\n",
              "    </tr>\n",
              "    <tr>\n",
              "      <th>7760</th>\n",
              "      <td>B14003_051E</td>\n",
              "      <td>Estimate!!Total:!!Female:!!Not enrolled in school:!!5 to 9 years</td>\n",
              "    </tr>\n",
              "    <tr>\n",
              "      <th>7761</th>\n",
              "      <td>B14003_052E</td>\n",
              "      <td>Estimate!!Total:!!Female:!!Not enrolled in school:!!10 to 14 years</td>\n",
              "    </tr>\n",
              "    <tr>\n",
              "      <th>7762</th>\n",
              "      <td>B14003_053E</td>\n",
              "      <td>Estimate!!Total:!!Female:!!Not enrolled in school:!!15 to 17 years</td>\n",
              "    </tr>\n",
              "    <tr>\n",
              "      <th>7763</th>\n",
              "      <td>B14003_054E</td>\n",
              "      <td>Estimate!!Total:!!Female:!!Not enrolled in school:!!18 and 19 years</td>\n",
              "    </tr>\n",
              "    <tr>\n",
              "      <th>7764</th>\n",
              "      <td>B14003_055E</td>\n",
              "      <td>Estimate!!Total:!!Female:!!Not enrolled in school:!!20 to 24 years</td>\n",
              "    </tr>\n",
              "    <tr>\n",
              "      <th>7765</th>\n",
              "      <td>B14003_056E</td>\n",
              "      <td>Estimate!!Total:!!Female:!!Not enrolled in school:!!25 to 34 years</td>\n",
              "    </tr>\n",
              "    <tr>\n",
              "      <th>7766</th>\n",
              "      <td>B14003_057E</td>\n",
              "      <td>Estimate!!Total:!!Female:!!Not enrolled in school:!!35 years and over</td>\n",
              "    </tr>\n",
              "  </tbody>\n",
              "</table>\n",
              "</div>"
            ],
            "text/plain": [
              "            index                                                                      label\n",
              "7710  B14003_001E                                                           Estimate!!Total:\n",
              "7711  B14003_002E                                                    Estimate!!Total:!!Male:\n",
              "7712  B14003_003E                        Estimate!!Total:!!Male:!!Enrolled in public school:\n",
              "7713  B14003_004E         Estimate!!Total:!!Male:!!Enrolled in public school:!!3 and 4 years\n",
              "7714  B14003_005E          Estimate!!Total:!!Male:!!Enrolled in public school:!!5 to 9 years\n",
              "7715  B14003_006E        Estimate!!Total:!!Male:!!Enrolled in public school:!!10 to 14 years\n",
              "7716  B14003_007E        Estimate!!Total:!!Male:!!Enrolled in public school:!!15 to 17 years\n",
              "7717  B14003_008E       Estimate!!Total:!!Male:!!Enrolled in public school:!!18 and 19 years\n",
              "7718  B14003_009E        Estimate!!Total:!!Male:!!Enrolled in public school:!!20 to 24 years\n",
              "7719  B14003_010E        Estimate!!Total:!!Male:!!Enrolled in public school:!!25 to 34 years\n",
              "7720  B14003_011E     Estimate!!Total:!!Male:!!Enrolled in public school:!!35 years and over\n",
              "7721  B14003_012E                       Estimate!!Total:!!Male:!!Enrolled in private school:\n",
              "7722  B14003_013E        Estimate!!Total:!!Male:!!Enrolled in private school:!!3 and 4 years\n",
              "7723  B14003_014E         Estimate!!Total:!!Male:!!Enrolled in private school:!!5 to 9 years\n",
              "7724  B14003_015E       Estimate!!Total:!!Male:!!Enrolled in private school:!!10 to 14 years\n",
              "7725  B14003_016E       Estimate!!Total:!!Male:!!Enrolled in private school:!!15 to 17 years\n",
              "7726  B14003_017E      Estimate!!Total:!!Male:!!Enrolled in private school:!!18 and 19 years\n",
              "7727  B14003_018E       Estimate!!Total:!!Male:!!Enrolled in private school:!!20 to 24 years\n",
              "7728  B14003_019E       Estimate!!Total:!!Male:!!Enrolled in private school:!!25 to 34 years\n",
              "7729  B14003_020E    Estimate!!Total:!!Male:!!Enrolled in private school:!!35 years and over\n",
              "7730  B14003_021E                           Estimate!!Total:!!Male:!!Not enrolled in school:\n",
              "7731  B14003_022E            Estimate!!Total:!!Male:!!Not enrolled in school:!!3 and 4 years\n",
              "7732  B14003_023E             Estimate!!Total:!!Male:!!Not enrolled in school:!!5 to 9 years\n",
              "7733  B14003_024E           Estimate!!Total:!!Male:!!Not enrolled in school:!!10 to 14 years\n",
              "7734  B14003_025E           Estimate!!Total:!!Male:!!Not enrolled in school:!!15 to 17 years\n",
              "7735  B14003_026E          Estimate!!Total:!!Male:!!Not enrolled in school:!!18 and 19 years\n",
              "7736  B14003_027E           Estimate!!Total:!!Male:!!Not enrolled in school:!!20 to 24 years\n",
              "7737  B14003_028E           Estimate!!Total:!!Male:!!Not enrolled in school:!!25 to 34 years\n",
              "7738  B14003_029E        Estimate!!Total:!!Male:!!Not enrolled in school:!!35 years and over\n",
              "7739  B14003_030E                                                  Estimate!!Total:!!Female:\n",
              "7740  B14003_031E                      Estimate!!Total:!!Female:!!Enrolled in public school:\n",
              "7741  B14003_032E       Estimate!!Total:!!Female:!!Enrolled in public school:!!3 and 4 years\n",
              "7742  B14003_033E        Estimate!!Total:!!Female:!!Enrolled in public school:!!5 to 9 years\n",
              "7743  B14003_034E      Estimate!!Total:!!Female:!!Enrolled in public school:!!10 to 14 years\n",
              "7744  B14003_035E      Estimate!!Total:!!Female:!!Enrolled in public school:!!15 to 17 years\n",
              "7745  B14003_036E     Estimate!!Total:!!Female:!!Enrolled in public school:!!18 and 19 years\n",
              "7746  B14003_037E      Estimate!!Total:!!Female:!!Enrolled in public school:!!20 to 24 years\n",
              "7747  B14003_038E      Estimate!!Total:!!Female:!!Enrolled in public school:!!25 to 34 years\n",
              "7748  B14003_039E   Estimate!!Total:!!Female:!!Enrolled in public school:!!35 years and over\n",
              "7749  B14003_040E                     Estimate!!Total:!!Female:!!Enrolled in private school:\n",
              "7750  B14003_041E      Estimate!!Total:!!Female:!!Enrolled in private school:!!3 and 4 years\n",
              "7751  B14003_042E       Estimate!!Total:!!Female:!!Enrolled in private school:!!5 to 9 years\n",
              "7752  B14003_043E     Estimate!!Total:!!Female:!!Enrolled in private school:!!10 to 14 years\n",
              "7753  B14003_044E     Estimate!!Total:!!Female:!!Enrolled in private school:!!15 to 17 years\n",
              "7754  B14003_045E    Estimate!!Total:!!Female:!!Enrolled in private school:!!18 and 19 years\n",
              "7755  B14003_046E     Estimate!!Total:!!Female:!!Enrolled in private school:!!20 to 24 years\n",
              "7756  B14003_047E     Estimate!!Total:!!Female:!!Enrolled in private school:!!25 to 34 years\n",
              "7757  B14003_048E  Estimate!!Total:!!Female:!!Enrolled in private school:!!35 years and over\n",
              "7758  B14003_049E                         Estimate!!Total:!!Female:!!Not enrolled in school:\n",
              "7759  B14003_050E          Estimate!!Total:!!Female:!!Not enrolled in school:!!3 and 4 years\n",
              "7760  B14003_051E           Estimate!!Total:!!Female:!!Not enrolled in school:!!5 to 9 years\n",
              "7761  B14003_052E         Estimate!!Total:!!Female:!!Not enrolled in school:!!10 to 14 years\n",
              "7762  B14003_053E         Estimate!!Total:!!Female:!!Not enrolled in school:!!15 to 17 years\n",
              "7763  B14003_054E        Estimate!!Total:!!Female:!!Not enrolled in school:!!18 and 19 years\n",
              "7764  B14003_055E         Estimate!!Total:!!Female:!!Not enrolled in school:!!20 to 24 years\n",
              "7765  B14003_056E         Estimate!!Total:!!Female:!!Not enrolled in school:!!25 to 34 years\n",
              "7766  B14003_057E      Estimate!!Total:!!Female:!!Not enrolled in school:!!35 years and over"
            ]
          },
          "metadata": {},
          "execution_count": 17
        }
      ]
    },
    {
      "cell_type": "code",
      "metadata": {
        "id": "xYdVy8Pg4bsM"
      },
      "source": [
        "#swap the variable key you're interested in.\n",
        "detail_key = 'B14003_022E'\n",
        "detail_name = 'BOYS_3_4_NOT_ENROLLED'"
      ],
      "execution_count": null,
      "outputs": []
    },
    {
      "cell_type": "code",
      "metadata": {
        "id": "tOSh6h5H4etc"
      },
      "source": [
        "#by zcta\n",
        "\n",
        "url = \"https://api.census.gov/data/2019/acs/acs5?get=NAME,\" + detail_key +\\\n",
        "  \"&for=zip%20code%20tabulation%20area:*&in=state:36&key=\" + myAPI\n",
        "resp = requests.request('GET', url).content\n",
        "key_zip = pd.read_csv(io.StringIO(resp.decode('utf-8').replace('[','').replace(']','')))\n",
        "key_zip = key_zip.rename(columns={detail_key:detail_name+'_2019', 'zip code tabulation area':'zip'})"
      ],
      "execution_count": null,
      "outputs": []
    },
    {
      "cell_type": "code",
      "metadata": {
        "colab": {
          "base_uri": "https://localhost:8080/",
          "height": 204
        },
        "id": "bjgc9IPy4kfN",
        "outputId": "51c4780e-6fc3-4220-ff4d-073586a443d9"
      },
      "source": [
        "key_zip.head()"
      ],
      "execution_count": null,
      "outputs": [
        {
          "output_type": "execute_result",
          "data": {
            "text/html": [
              "<div>\n",
              "<style scoped>\n",
              "    .dataframe tbody tr th:only-of-type {\n",
              "        vertical-align: middle;\n",
              "    }\n",
              "\n",
              "    .dataframe tbody tr th {\n",
              "        vertical-align: top;\n",
              "    }\n",
              "\n",
              "    .dataframe thead th {\n",
              "        text-align: right;\n",
              "    }\n",
              "</style>\n",
              "<table border=\"1\" class=\"dataframe\">\n",
              "  <thead>\n",
              "    <tr style=\"text-align: right;\">\n",
              "      <th></th>\n",
              "      <th>NAME</th>\n",
              "      <th>BOYS_3_4_NOT_ENROLLED_2019</th>\n",
              "      <th>state</th>\n",
              "      <th>zip</th>\n",
              "      <th>Unnamed: 4</th>\n",
              "    </tr>\n",
              "  </thead>\n",
              "  <tbody>\n",
              "    <tr>\n",
              "      <th>0</th>\n",
              "      <td>ZCTA5 11804</td>\n",
              "      <td>34</td>\n",
              "      <td>36</td>\n",
              "      <td>11804</td>\n",
              "      <td>NaN</td>\n",
              "    </tr>\n",
              "    <tr>\n",
              "      <th>1</th>\n",
              "      <td>ZCTA5 11930</td>\n",
              "      <td>0</td>\n",
              "      <td>36</td>\n",
              "      <td>11930</td>\n",
              "      <td>NaN</td>\n",
              "    </tr>\n",
              "    <tr>\n",
              "      <th>2</th>\n",
              "      <td>ZCTA5 11941</td>\n",
              "      <td>20</td>\n",
              "      <td>36</td>\n",
              "      <td>11941</td>\n",
              "      <td>NaN</td>\n",
              "    </tr>\n",
              "    <tr>\n",
              "      <th>3</th>\n",
              "      <td>ZCTA5 11962</td>\n",
              "      <td>0</td>\n",
              "      <td>36</td>\n",
              "      <td>11962</td>\n",
              "      <td>NaN</td>\n",
              "    </tr>\n",
              "    <tr>\n",
              "      <th>4</th>\n",
              "      <td>ZCTA5 11702</td>\n",
              "      <td>15</td>\n",
              "      <td>36</td>\n",
              "      <td>11702</td>\n",
              "      <td>NaN</td>\n",
              "    </tr>\n",
              "  </tbody>\n",
              "</table>\n",
              "</div>"
            ],
            "text/plain": [
              "          NAME  BOYS_3_4_NOT_ENROLLED_2019  state    zip  Unnamed: 4\n",
              "0  ZCTA5 11804                          34     36  11804         NaN\n",
              "1  ZCTA5 11930                           0     36  11930         NaN\n",
              "2  ZCTA5 11941                          20     36  11941         NaN\n",
              "3  ZCTA5 11962                           0     36  11962         NaN\n",
              "4  ZCTA5 11702                          15     36  11702         NaN"
            ]
          },
          "metadata": {},
          "execution_count": 21
        }
      ]
    },
    {
      "cell_type": "code",
      "metadata": {
        "id": "D2itK1pBOAd-"
      },
      "source": [
        "key_zip.drop(columns='Unnamed: 4', inplace=True)"
      ],
      "execution_count": null,
      "outputs": []
    },
    {
      "cell_type": "code",
      "metadata": {
        "colab": {
          "base_uri": "https://localhost:8080/",
          "height": 204
        },
        "id": "Lub_IkLkOErQ",
        "outputId": "3f96eb12-3331-4399-deb2-b06474ad6029"
      },
      "source": [
        "key_zip.head()"
      ],
      "execution_count": null,
      "outputs": [
        {
          "output_type": "execute_result",
          "data": {
            "text/html": [
              "<div>\n",
              "<style scoped>\n",
              "    .dataframe tbody tr th:only-of-type {\n",
              "        vertical-align: middle;\n",
              "    }\n",
              "\n",
              "    .dataframe tbody tr th {\n",
              "        vertical-align: top;\n",
              "    }\n",
              "\n",
              "    .dataframe thead th {\n",
              "        text-align: right;\n",
              "    }\n",
              "</style>\n",
              "<table border=\"1\" class=\"dataframe\">\n",
              "  <thead>\n",
              "    <tr style=\"text-align: right;\">\n",
              "      <th></th>\n",
              "      <th>NAME</th>\n",
              "      <th>BOYS_3_4_NOT_ENROLLED_2019</th>\n",
              "      <th>state</th>\n",
              "      <th>zip</th>\n",
              "    </tr>\n",
              "  </thead>\n",
              "  <tbody>\n",
              "    <tr>\n",
              "      <th>0</th>\n",
              "      <td>ZCTA5 11804</td>\n",
              "      <td>34</td>\n",
              "      <td>36</td>\n",
              "      <td>11804</td>\n",
              "    </tr>\n",
              "    <tr>\n",
              "      <th>1</th>\n",
              "      <td>ZCTA5 11930</td>\n",
              "      <td>0</td>\n",
              "      <td>36</td>\n",
              "      <td>11930</td>\n",
              "    </tr>\n",
              "    <tr>\n",
              "      <th>2</th>\n",
              "      <td>ZCTA5 11941</td>\n",
              "      <td>20</td>\n",
              "      <td>36</td>\n",
              "      <td>11941</td>\n",
              "    </tr>\n",
              "    <tr>\n",
              "      <th>3</th>\n",
              "      <td>ZCTA5 11962</td>\n",
              "      <td>0</td>\n",
              "      <td>36</td>\n",
              "      <td>11962</td>\n",
              "    </tr>\n",
              "    <tr>\n",
              "      <th>4</th>\n",
              "      <td>ZCTA5 11702</td>\n",
              "      <td>15</td>\n",
              "      <td>36</td>\n",
              "      <td>11702</td>\n",
              "    </tr>\n",
              "  </tbody>\n",
              "</table>\n",
              "</div>"
            ],
            "text/plain": [
              "          NAME  BOYS_3_4_NOT_ENROLLED_2019  state    zip\n",
              "0  ZCTA5 11804                          34     36  11804\n",
              "1  ZCTA5 11930                           0     36  11930\n",
              "2  ZCTA5 11941                          20     36  11941\n",
              "3  ZCTA5 11962                           0     36  11962\n",
              "4  ZCTA5 11702                          15     36  11702"
            ]
          },
          "metadata": {},
          "execution_count": 23
        }
      ]
    },
    {
      "cell_type": "code",
      "metadata": {
        "colab": {
          "base_uri": "https://localhost:8080/"
        },
        "id": "15gdmg1GOwBJ",
        "outputId": "3c0aca66-a61a-499f-a04c-467b40bea548"
      },
      "source": [
        "key_zip.dtypes"
      ],
      "execution_count": null,
      "outputs": [
        {
          "output_type": "execute_result",
          "data": {
            "text/plain": [
              "NAME                          object\n",
              "BOYS_3_4_NOT_ENROLLED_2019     int64\n",
              "state                          int64\n",
              "zip                            int64\n",
              "dtype: object"
            ]
          },
          "metadata": {},
          "execution_count": 28
        }
      ]
    },
    {
      "cell_type": "code",
      "metadata": {
        "id": "p7KoWM7ZQw01"
      },
      "source": [
        "key_zip.zip = key_zip.zip.astype(str)"
      ],
      "execution_count": null,
      "outputs": []
    },
    {
      "cell_type": "code",
      "metadata": {
        "id": "8JACkXvZOW2y"
      },
      "source": [
        "#narrow to NYC ZCTAs\n",
        "#read in NYC ZCTAs from Open Data as shapefile using Geopandas"
      ],
      "execution_count": null,
      "outputs": []
    },
    {
      "cell_type": "code",
      "metadata": {
        "id": "wK48egYUOddv"
      },
      "source": [
        "nyc_zcta = gpd.read_file('https://data.cityofnewyork.us/resource/pri4-ifjk.geojson')"
      ],
      "execution_count": null,
      "outputs": []
    },
    {
      "cell_type": "code",
      "metadata": {
        "colab": {
          "base_uri": "https://localhost:8080/"
        },
        "id": "PyYUMHinOsED",
        "outputId": "69440fe9-7427-45c1-bb9d-67be59e25282"
      },
      "source": [
        "nyc_zcta.dtypes"
      ],
      "execution_count": null,
      "outputs": [
        {
          "output_type": "execute_result",
          "data": {
            "text/plain": [
              "modzcta       object\n",
              "label         object\n",
              "zcta          object\n",
              "pop_est       object\n",
              "geometry    geometry\n",
              "dtype: object"
            ]
          },
          "metadata": {},
          "execution_count": 45
        }
      ]
    },
    {
      "cell_type": "code",
      "metadata": {
        "id": "gtb-YMwPOzfC"
      },
      "source": [
        "boys_3_4_not_enrolled_nyc_zcta = pd.merge(left=nyc_zcta, right=key_zip, left_on='modzcta', right_on='zip' ,how='inner')"
      ],
      "execution_count": null,
      "outputs": []
    },
    {
      "cell_type": "code",
      "metadata": {
        "colab": {
          "base_uri": "https://localhost:8080/",
          "height": 374
        },
        "id": "5Zr8R8e9O_ZG",
        "outputId": "92790891-69f4-4c68-bc26-ea56f6bd49e9"
      },
      "source": [
        "boys_3_4_not_enrolled_nyc_zcta.head()"
      ],
      "execution_count": null,
      "outputs": [
        {
          "output_type": "execute_result",
          "data": {
            "text/html": [
              "<div>\n",
              "<style scoped>\n",
              "    .dataframe tbody tr th:only-of-type {\n",
              "        vertical-align: middle;\n",
              "    }\n",
              "\n",
              "    .dataframe tbody tr th {\n",
              "        vertical-align: top;\n",
              "    }\n",
              "\n",
              "    .dataframe thead th {\n",
              "        text-align: right;\n",
              "    }\n",
              "</style>\n",
              "<table border=\"1\" class=\"dataframe\">\n",
              "  <thead>\n",
              "    <tr style=\"text-align: right;\">\n",
              "      <th></th>\n",
              "      <th>modzcta</th>\n",
              "      <th>label</th>\n",
              "      <th>zcta</th>\n",
              "      <th>pop_est</th>\n",
              "      <th>geometry</th>\n",
              "      <th>NAME</th>\n",
              "      <th>BOYS_3_4_NOT_ENROLLED_2019</th>\n",
              "      <th>state</th>\n",
              "      <th>zip</th>\n",
              "    </tr>\n",
              "  </thead>\n",
              "  <tbody>\n",
              "    <tr>\n",
              "      <th>0</th>\n",
              "      <td>10001</td>\n",
              "      <td>10001, 10118</td>\n",
              "      <td>10001, 10119, 10199</td>\n",
              "      <td>23072</td>\n",
              "      <td>MULTIPOLYGON (((-73.98774 40.74407, -73.98819 40.74345, -73.98901 40.74380, -73.98887 40.74453, -73.99097 40.74542, -73.99142 40.74480, -73.99187 40.74419, -73.99207 40.74392, -73.99494 40.74506, -73.99760 40.74620, -73.99783 40.74588, -73.99801 40.74595, -73.99755 40.74658, -73.99887 40.74713, -74.00040 40.74777, -74.00085 40.74715, -74.00369 40.74836, -74.00424 40.74859, -74.00653 40.74956, ...</td>\n",
              "      <td>ZCTA5 10001</td>\n",
              "      <td>0</td>\n",
              "      <td>36</td>\n",
              "      <td>10001</td>\n",
              "    </tr>\n",
              "    <tr>\n",
              "      <th>1</th>\n",
              "      <td>10002</td>\n",
              "      <td>10002</td>\n",
              "      <td>10002</td>\n",
              "      <td>74993</td>\n",
              "      <td>MULTIPOLYGON (((-73.99750 40.71407, -73.99709 40.71462, -73.99680 40.71504, -73.99653 40.71549, -73.99623 40.71600, -73.99615 40.71609, -73.99606 40.71623, -73.99581 40.71665, -73.99543 40.71728, -73.99481 40.71846, -73.99440 40.71946, -73.99411 40.72015, -73.99407 40.72024, -73.99404 40.72032, -73.99402 40.72038, -73.99379 40.72094, -73.99353 40.72164, -73.99336 40.72208, -73.99334 40.72214, ...</td>\n",
              "      <td>ZCTA5 10002</td>\n",
              "      <td>87</td>\n",
              "      <td>36</td>\n",
              "      <td>10002</td>\n",
              "    </tr>\n",
              "    <tr>\n",
              "      <th>2</th>\n",
              "      <td>10003</td>\n",
              "      <td>10003</td>\n",
              "      <td>10003</td>\n",
              "      <td>54682</td>\n",
              "      <td>MULTIPOLYGON (((-73.98864 40.72293, -73.98876 40.72297, -73.98939 40.72317, -73.99027 40.72343, -73.99102 40.72365, -73.99128 40.72373, -73.99136 40.72375, -73.99220 40.72401, -73.99253 40.72412, -73.99260 40.72414, -73.99258 40.72420, -73.99233 40.72491, -73.99221 40.72523, -73.99206 40.72564, -73.99180 40.72639, -73.99186 40.72642, -73.99364 40.72729, -73.99314 40.72787, -73.99426 40.72841, ...</td>\n",
              "      <td>ZCTA5 10003</td>\n",
              "      <td>10</td>\n",
              "      <td>36</td>\n",
              "      <td>10003</td>\n",
              "    </tr>\n",
              "    <tr>\n",
              "      <th>3</th>\n",
              "      <td>10026</td>\n",
              "      <td>10026</td>\n",
              "      <td>10026</td>\n",
              "      <td>39363</td>\n",
              "      <td>MULTIPOLYGON (((-73.96201 40.80551, -73.96007 40.80471, -73.96032 40.80399, -73.96248 40.80488, -73.96201 40.80551)), ((-73.95862 40.79997, -73.96007 40.80058, -73.95965 40.80116, -73.95915 40.80184, -73.95869 40.80247, -73.95825 40.80311, -73.95820 40.80389, -73.95824 40.80440, -73.95824 40.80453, -73.95826 40.80471, -73.95827 40.80483, -73.95827 40.80494, -73.95828 40.80505, -73.95827 40.805...</td>\n",
              "      <td>ZCTA5 10026</td>\n",
              "      <td>147</td>\n",
              "      <td>36</td>\n",
              "      <td>10026</td>\n",
              "    </tr>\n",
              "    <tr>\n",
              "      <th>4</th>\n",
              "      <td>10004</td>\n",
              "      <td>10004</td>\n",
              "      <td>10004</td>\n",
              "      <td>3028</td>\n",
              "      <td>MULTIPOLYGON (((-74.00827 40.70772, -74.00937 40.70861, -74.00889 40.70904, -74.00801 40.70798, -74.00827 40.70772)), ((-74.01580 40.70135, -74.01579 40.70154, -74.01575 40.70191, -74.01574 40.70199, -74.01583 40.70209, -74.01630 40.70269, -74.01653 40.70326, -74.01663 40.70373, -74.01665 40.70389, -74.01666 40.70408, -74.01670 40.70463, -74.01668 40.70474, -74.01668 40.70480, -74.01676 40.704...</td>\n",
              "      <td>ZCTA5 10004</td>\n",
              "      <td>0</td>\n",
              "      <td>36</td>\n",
              "      <td>10004</td>\n",
              "    </tr>\n",
              "  </tbody>\n",
              "</table>\n",
              "</div>"
            ],
            "text/plain": [
              "  modzcta         label  ... state    zip\n",
              "0   10001  10001, 10118  ...    36  10001\n",
              "1   10002         10002  ...    36  10002\n",
              "2   10003         10003  ...    36  10003\n",
              "3   10026         10026  ...    36  10026\n",
              "4   10004         10004  ...    36  10004\n",
              "\n",
              "[5 rows x 9 columns]"
            ]
          },
          "metadata": {},
          "execution_count": 47
        }
      ]
    },
    {
      "cell_type": "code",
      "metadata": {
        "colab": {
          "base_uri": "https://localhost:8080/",
          "height": 852
        },
        "id": "H5mhy6CrQ3c8",
        "outputId": "63f339cc-efb3-409b-ebc9-67c599ba9fbb"
      },
      "source": [
        "fig, ax = plt.subplots(figsize=(15,15))\n",
        "ax.set_aspect('equal')\n",
        "ax.axis('off')\n",
        "plt.title(\"Number of 3-4 Year Old Boys Not Enrolled in School, ACS 5-Year Estimates 2019\")\n",
        "boys_3_4_not_enrolled_nyc_zcta.plot(ax=ax, cmap='Blues', column='BOYS_3_4_NOT_ENROLLED_2019', edgecolor='black', lw=2, legend=True)\n",
        "plt.show();"
      ],
      "execution_count": null,
      "outputs": [
        {
          "output_type": "display_data",
          "data": {
            "image/png": "[encoded data removed]",
            "text/plain": [
              "<Figure size 1080x1080 with 2 Axes>"
            ]
          },
          "metadata": {
            "needs_background": "light"
          }
        }
      ]
    },
    {
      "cell_type": "code",
      "metadata": {
        "id": "JEMjiG-14oNJ"
      },
      "source": [
        "#run this cell if you want to export the file\n",
        "from google.colab import files\n",
        "key_zip.to_csv(detail_name + '2019_by_zip.csv') \n",
        "files.download(detail_name + '2019_by_zip.csv')"
      ],
      "execution_count": null,
      "outputs": []
    },
    {
      "cell_type": "code",
      "metadata": {
        "id": "j3QCNQK84ttO"
      },
      "source": [
        "#by PUMA\n",
        "\n",
        "url = \"https://api.census.gov/data/2019/acs/acs5?get=NAME,\" + detail_key +\\\n",
        "  \"&for=public%20use%20microdata%20area:*&in=state:36&key=\" + myAPI\n",
        "resp = requests.request('GET', url).content\n",
        "key_puma = pd.read_csv(io.StringIO(resp.decode('utf-8').replace('[','').replace(']','')))\n",
        "key_puma = key_puma.rename(columns={detail_key:detail_name+'_2019', 'public use microdata area':'puma'})"
      ],
      "execution_count": null,
      "outputs": []
    },
    {
      "cell_type": "code",
      "metadata": {
        "colab": {
          "base_uri": "https://localhost:8080/",
          "height": 204
        },
        "id": "yvSPqrCs4ur2",
        "outputId": "6a878ad5-1b45-4a0e-b4d9-652314469079"
      },
      "source": [
        "key_puma.head()"
      ],
      "execution_count": null,
      "outputs": [
        {
          "output_type": "execute_result",
          "data": {
            "text/html": [
              "<div>\n",
              "<style scoped>\n",
              "    .dataframe tbody tr th:only-of-type {\n",
              "        vertical-align: middle;\n",
              "    }\n",
              "\n",
              "    .dataframe tbody tr th {\n",
              "        vertical-align: top;\n",
              "    }\n",
              "\n",
              "    .dataframe thead th {\n",
              "        text-align: right;\n",
              "    }\n",
              "</style>\n",
              "<table border=\"1\" class=\"dataframe\">\n",
              "  <thead>\n",
              "    <tr style=\"text-align: right;\">\n",
              "      <th></th>\n",
              "      <th>NAME</th>\n",
              "      <th>BOYS_3_4_NOT_ENROLLED_2019</th>\n",
              "      <th>state</th>\n",
              "      <th>puma</th>\n",
              "      <th>Unnamed: 4</th>\n",
              "    </tr>\n",
              "  </thead>\n",
              "  <tbody>\n",
              "    <tr>\n",
              "      <th>0</th>\n",
              "      <td>NYC-Manhattan Community District 3--Chinatown &amp; Lower East Side PUMA, New York</td>\n",
              "      <td>162</td>\n",
              "      <td>36</td>\n",
              "      <td>3809</td>\n",
              "      <td>NaN</td>\n",
              "    </tr>\n",
              "    <tr>\n",
              "      <th>1</th>\n",
              "      <td>NYC-Manhattan Community District 11--East Harlem PUMA, New York</td>\n",
              "      <td>700</td>\n",
              "      <td>36</td>\n",
              "      <td>3804</td>\n",
              "      <td>NaN</td>\n",
              "    </tr>\n",
              "    <tr>\n",
              "      <th>2</th>\n",
              "      <td>NYC-Manhattan Community District 6--Murray Hill, Gramercy &amp; Stuyvesant Town PUMA; New York</td>\n",
              "      <td>200</td>\n",
              "      <td>36</td>\n",
              "      <td>3808</td>\n",
              "      <td>NaN</td>\n",
              "    </tr>\n",
              "    <tr>\n",
              "      <th>3</th>\n",
              "      <td>NYC-Staten Island Community District 3--Tottenville, Great Kills &amp; Annadale PUMA; New York</td>\n",
              "      <td>634</td>\n",
              "      <td>36</td>\n",
              "      <td>3901</td>\n",
              "      <td>NaN</td>\n",
              "    </tr>\n",
              "    <tr>\n",
              "      <th>4</th>\n",
              "      <td>NYC-Staten Island Community District 2--New Springville &amp; South Beach PUMA, New York</td>\n",
              "      <td>749</td>\n",
              "      <td>36</td>\n",
              "      <td>3902</td>\n",
              "      <td>NaN</td>\n",
              "    </tr>\n",
              "  </tbody>\n",
              "</table>\n",
              "</div>"
            ],
            "text/plain": [
              "                                                                                         NAME  ...  Unnamed: 4\n",
              "0              NYC-Manhattan Community District 3--Chinatown & Lower East Side PUMA, New York  ...         NaN\n",
              "1                             NYC-Manhattan Community District 11--East Harlem PUMA, New York  ...         NaN\n",
              "2  NYC-Manhattan Community District 6--Murray Hill, Gramercy & Stuyvesant Town PUMA; New York  ...         NaN\n",
              "3  NYC-Staten Island Community District 3--Tottenville, Great Kills & Annadale PUMA; New York  ...         NaN\n",
              "4        NYC-Staten Island Community District 2--New Springville & South Beach PUMA, New York  ...         NaN\n",
              "\n",
              "[5 rows x 5 columns]"
            ]
          },
          "metadata": {},
          "execution_count": 58
        }
      ]
    },
    {
      "cell_type": "markdown",
      "metadata": {
        "id": "ChvhR5KA4-tl"
      },
      "source": [
        "### Open Data API"
      ]
    },
    {
      "cell_type": "markdown",
      "metadata": {
        "id": "ZSdBnRiS5Abh"
      },
      "source": [
        "A personal favorite, if you work with Open Data and find yourself downloading data frequently, there's an easier way!  Let's go look at Open Data!"
      ]
    },
    {
      "cell_type": "markdown",
      "metadata": {
        "id": "y7D5iZL7SVKJ"
      },
      "source": [
        "Every Open Data set has an ID that you can reference to pull the Open Data set directly.  You can even filter or use SQL-like queries to target just the data you need instead of having to pull an entire large dataset and load it into memory."
      ]
    },
    {
      "cell_type": "code",
      "metadata": {
        "id": "j1fBziYv4wt1"
      },
      "source": [
        "#we snag the URL from the Open Data Website, as a CSV or a JSON!\n",
        "dog_licenses_url = 'https://data.cityofnewyork.us/resource/nu7n-tubp.csv'"
      ],
      "execution_count": null,
      "outputs": []
    },
    {
      "cell_type": "code",
      "metadata": {
        "id": "pM1Bz4l35q4c"
      },
      "source": [
        "dog_licenses = pd.read_csv(dog_licenses_url)"
      ],
      "execution_count": null,
      "outputs": []
    },
    {
      "cell_type": "code",
      "metadata": {
        "colab": {
          "base_uri": "https://localhost:8080/"
        },
        "id": "opEil6t25w6h",
        "outputId": "ce4adabf-5c86-4999-a294-fc759e675684"
      },
      "source": [
        "dog_licenses.shape"
      ],
      "execution_count": null,
      "outputs": [
        {
          "output_type": "execute_result",
          "data": {
            "text/plain": [
              "(1000, 11)"
            ]
          },
          "metadata": {},
          "execution_count": 63
        }
      ]
    },
    {
      "cell_type": "markdown",
      "metadata": {
        "id": "Ey0KSa2E50Wp"
      },
      "source": [
        "We know there are more than 1,000 licensed dogs in NYC!  What gives?\n",
        "\n",
        "The API automatically limits the call to 1,000 rows unless we specify otherwise.  Let's up the limit in the URL!  In the current version of the API, there's no limit to how many rows you can pull at once.  However, it can be quicker to page through the data if you're pulling a huge amount at once.  See the API documentation for more info!"
      ]
    },
    {
      "cell_type": "code",
      "metadata": {
        "id": "M9tlE_OX5yO3"
      },
      "source": [
        "dog_licenses_url = 'https://data.cityofnewyork.us/resource/nu7n-tubp.csv?$limit=5000'"
      ],
      "execution_count": null,
      "outputs": []
    },
    {
      "cell_type": "code",
      "metadata": {
        "id": "reFyeZwM6X_Z"
      },
      "source": [
        "dog_licenses = pd.read_csv(dog_licenses_url)"
      ],
      "execution_count": null,
      "outputs": []
    },
    {
      "cell_type": "code",
      "metadata": {
        "colab": {
          "base_uri": "https://localhost:8080/"
        },
        "id": "6REYMNk96Zjg",
        "outputId": "0d9f7aa7-6f5a-4156-a3e7-5829d76c78d9"
      },
      "source": [
        "dog_licenses.shape"
      ],
      "execution_count": null,
      "outputs": [
        {
          "output_type": "execute_result",
          "data": {
            "text/plain": [
              "(5000, 11)"
            ]
          },
          "metadata": {},
          "execution_count": 66
        }
      ]
    },
    {
      "cell_type": "markdown",
      "metadata": {
        "id": "kt9CsG5q6fmk"
      },
      "source": [
        "Let's say we just want to examine the phenomenon of the Labradoodle."
      ]
    },
    {
      "cell_type": "code",
      "metadata": {
        "id": "eA36_xkg6a0X"
      },
      "source": [
        "#filter rows to where Breed Name = Labradoodle\n",
        "dog_licenses_url = 'https://data.cityofnewyork.us/resource/nu7n-tubp.csv?$limit=500000&breedname=Labradoodle'"
      ],
      "execution_count": null,
      "outputs": []
    },
    {
      "cell_type": "code",
      "metadata": {
        "id": "geI12Ix_8ivh"
      },
      "source": [
        "dog_licenses = pd.read_csv(dog_licenses_url)"
      ],
      "execution_count": null,
      "outputs": []
    },
    {
      "cell_type": "code",
      "metadata": {
        "colab": {
          "base_uri": "https://localhost:8080/",
          "height": 204
        },
        "id": "37Nnl6Mj8kKn",
        "outputId": "faac96f0-5a45-4161-ad98-17c72052a0f7"
      },
      "source": [
        "dog_licenses.head()"
      ],
      "execution_count": null,
      "outputs": [
        {
          "output_type": "execute_result",
          "data": {
            "text/html": [
              "<div>\n",
              "<style scoped>\n",
              "    .dataframe tbody tr th:only-of-type {\n",
              "        vertical-align: middle;\n",
              "    }\n",
              "\n",
              "    .dataframe tbody tr th {\n",
              "        vertical-align: top;\n",
              "    }\n",
              "\n",
              "    .dataframe thead th {\n",
              "        text-align: right;\n",
              "    }\n",
              "</style>\n",
              "<table border=\"1\" class=\"dataframe\">\n",
              "  <thead>\n",
              "    <tr style=\"text-align: right;\">\n",
              "      <th></th>\n",
              "      <th>rownumber</th>\n",
              "      <th>animalname</th>\n",
              "      <th>animalgender</th>\n",
              "      <th>animalbirth</th>\n",
              "      <th>breedname</th>\n",
              "      <th>borough</th>\n",
              "      <th>zipcode</th>\n",
              "      <th>licenseissueddate</th>\n",
              "      <th>licenseexpireddate</th>\n",
              "      <th>extract_year</th>\n",
              "      <th>unique_dog_id</th>\n",
              "    </tr>\n",
              "  </thead>\n",
              "  <tbody>\n",
              "    <tr>\n",
              "      <th>0</th>\n",
              "      <td>97</td>\n",
              "      <td>BOO</td>\n",
              "      <td>F</td>\n",
              "      <td>2013</td>\n",
              "      <td>Labradoodle</td>\n",
              "      <td>NaN</td>\n",
              "      <td>11211</td>\n",
              "      <td>2014-09-17T00:00:00.000</td>\n",
              "      <td>2019-09-17T00:00:00.000</td>\n",
              "      <td>2016.0</td>\n",
              "      <td>NaN</td>\n",
              "    </tr>\n",
              "    <tr>\n",
              "      <th>1</th>\n",
              "      <td>139</td>\n",
              "      <td>ZOEY</td>\n",
              "      <td>F</td>\n",
              "      <td>2014</td>\n",
              "      <td>Labradoodle</td>\n",
              "      <td>NaN</td>\n",
              "      <td>10301</td>\n",
              "      <td>2014-09-20T00:00:00.000</td>\n",
              "      <td>2019-09-20T00:00:00.000</td>\n",
              "      <td>2016.0</td>\n",
              "      <td>NaN</td>\n",
              "    </tr>\n",
              "    <tr>\n",
              "      <th>2</th>\n",
              "      <td>140</td>\n",
              "      <td>ROSIE</td>\n",
              "      <td>F</td>\n",
              "      <td>2013</td>\n",
              "      <td>Labradoodle</td>\n",
              "      <td>NaN</td>\n",
              "      <td>10013</td>\n",
              "      <td>2014-09-20T00:00:00.000</td>\n",
              "      <td>2019-09-20T00:00:00.000</td>\n",
              "      <td>2016.0</td>\n",
              "      <td>NaN</td>\n",
              "    </tr>\n",
              "    <tr>\n",
              "      <th>3</th>\n",
              "      <td>277</td>\n",
              "      <td>ALISTAIR</td>\n",
              "      <td>M</td>\n",
              "      <td>2012</td>\n",
              "      <td>Labradoodle</td>\n",
              "      <td>NaN</td>\n",
              "      <td>10011</td>\n",
              "      <td>2014-10-04T00:00:00.000</td>\n",
              "      <td>2016-10-04T00:00:00.000</td>\n",
              "      <td>2016.0</td>\n",
              "      <td>NaN</td>\n",
              "    </tr>\n",
              "    <tr>\n",
              "      <th>4</th>\n",
              "      <td>339</td>\n",
              "      <td>MURPHY</td>\n",
              "      <td>M</td>\n",
              "      <td>2012</td>\n",
              "      <td>Labradoodle</td>\n",
              "      <td>NaN</td>\n",
              "      <td>10016</td>\n",
              "      <td>2014-10-09T00:00:00.000</td>\n",
              "      <td>2019-07-18T00:00:00.000</td>\n",
              "      <td>2016.0</td>\n",
              "      <td>NaN</td>\n",
              "    </tr>\n",
              "  </tbody>\n",
              "</table>\n",
              "</div>"
            ],
            "text/plain": [
              "   rownumber animalname  ... extract_year  unique_dog_id\n",
              "0         97        BOO  ...       2016.0            NaN\n",
              "1        139       ZOEY  ...       2016.0            NaN\n",
              "2        140      ROSIE  ...       2016.0            NaN\n",
              "3        277   ALISTAIR  ...       2016.0            NaN\n",
              "4        339     MURPHY  ...       2016.0            NaN\n",
              "\n",
              "[5 rows x 11 columns]"
            ]
          },
          "metadata": {},
          "execution_count": 75
        }
      ]
    },
    {
      "cell_type": "code",
      "metadata": {
        "colab": {
          "base_uri": "https://localhost:8080/"
        },
        "id": "WmAdSwKY8l4I",
        "outputId": "237285af-36c6-43fd-c5bd-95fcd928dbd4"
      },
      "source": [
        "dog_licenses.shape"
      ],
      "execution_count": null,
      "outputs": [
        {
          "output_type": "execute_result",
          "data": {
            "text/plain": [
              "(3685, 11)"
            ]
          },
          "metadata": {},
          "execution_count": 76
        }
      ]
    },
    {
      "cell_type": "code",
      "metadata": {
        "colab": {
          "base_uri": "https://localhost:8080/",
          "height": 669
        },
        "id": "S7V5jejc8nr8",
        "outputId": "5421d5a3-0715-4499-db4e-641a38f32fe1"
      },
      "source": [
        "dog_licenses.groupby('animalname')['rownumber'].count().reset_index().sort_values('rownumber', ascending=False).head(20)"
      ],
      "execution_count": null,
      "outputs": [
        {
          "output_type": "execute_result",
          "data": {
            "text/html": [
              "<div>\n",
              "<style scoped>\n",
              "    .dataframe tbody tr th:only-of-type {\n",
              "        vertical-align: middle;\n",
              "    }\n",
              "\n",
              "    .dataframe tbody tr th {\n",
              "        vertical-align: top;\n",
              "    }\n",
              "\n",
              "    .dataframe thead th {\n",
              "        text-align: right;\n",
              "    }\n",
              "</style>\n",
              "<table border=\"1\" class=\"dataframe\">\n",
              "  <thead>\n",
              "    <tr style=\"text-align: right;\">\n",
              "      <th></th>\n",
              "      <th>animalname</th>\n",
              "      <th>rownumber</th>\n",
              "    </tr>\n",
              "  </thead>\n",
              "  <tbody>\n",
              "    <tr>\n",
              "      <th>462</th>\n",
              "      <td>LUCY</td>\n",
              "      <td>66</td>\n",
              "    </tr>\n",
              "    <tr>\n",
              "      <th>794</th>\n",
              "      <td>TEDDY</td>\n",
              "      <td>51</td>\n",
              "    </tr>\n",
              "    <tr>\n",
              "      <th>194</th>\n",
              "      <td>COOPER</td>\n",
              "      <td>49</td>\n",
              "    </tr>\n",
              "    <tr>\n",
              "      <th>156</th>\n",
              "      <td>CHARLIE</td>\n",
              "      <td>41</td>\n",
              "    </tr>\n",
              "    <tr>\n",
              "      <th>692</th>\n",
              "      <td>RUBY</td>\n",
              "      <td>39</td>\n",
              "    </tr>\n",
              "    <tr>\n",
              "      <th>685</th>\n",
              "      <td>ROSIE</td>\n",
              "      <td>38</td>\n",
              "    </tr>\n",
              "    <tr>\n",
              "      <th>47</th>\n",
              "      <td>BAILEY</td>\n",
              "      <td>36</td>\n",
              "    </tr>\n",
              "    <tr>\n",
              "      <th>476</th>\n",
              "      <td>MAGGIE</td>\n",
              "      <td>34</td>\n",
              "    </tr>\n",
              "    <tr>\n",
              "      <th>501</th>\n",
              "      <td>MAX</td>\n",
              "      <td>32</td>\n",
              "    </tr>\n",
              "    <tr>\n",
              "      <th>770</th>\n",
              "      <td>STELLA</td>\n",
              "      <td>29</td>\n",
              "    </tr>\n",
              "    <tr>\n",
              "      <th>134</th>\n",
              "      <td>BUDDY</td>\n",
              "      <td>28</td>\n",
              "    </tr>\n",
              "    <tr>\n",
              "      <th>451</th>\n",
              "      <td>LOLA</td>\n",
              "      <td>28</td>\n",
              "    </tr>\n",
              "    <tr>\n",
              "      <th>586</th>\n",
              "      <td>OLIVER</td>\n",
              "      <td>27</td>\n",
              "    </tr>\n",
              "    <tr>\n",
              "      <th>612</th>\n",
              "      <td>PENNY</td>\n",
              "      <td>27</td>\n",
              "    </tr>\n",
              "    <tr>\n",
              "      <th>353</th>\n",
              "      <td>HUDSON</td>\n",
              "      <td>26</td>\n",
              "    </tr>\n",
              "    <tr>\n",
              "      <th>69</th>\n",
              "      <td>BELLA</td>\n",
              "      <td>23</td>\n",
              "    </tr>\n",
              "    <tr>\n",
              "      <th>185</th>\n",
              "      <td>COCO</td>\n",
              "      <td>21</td>\n",
              "    </tr>\n",
              "    <tr>\n",
              "      <th>759</th>\n",
              "      <td>SOPHIE</td>\n",
              "      <td>21</td>\n",
              "    </tr>\n",
              "    <tr>\n",
              "      <th>465</th>\n",
              "      <td>LUNA</td>\n",
              "      <td>20</td>\n",
              "    </tr>\n",
              "    <tr>\n",
              "      <th>542</th>\n",
              "      <td>MOOSE</td>\n",
              "      <td>20</td>\n",
              "    </tr>\n",
              "  </tbody>\n",
              "</table>\n",
              "</div>"
            ],
            "text/plain": [
              "    animalname  rownumber\n",
              "462       LUCY         66\n",
              "794      TEDDY         51\n",
              "194     COOPER         49\n",
              "156    CHARLIE         41\n",
              "692       RUBY         39\n",
              "685      ROSIE         38\n",
              "47      BAILEY         36\n",
              "476     MAGGIE         34\n",
              "501        MAX         32\n",
              "770     STELLA         29\n",
              "134      BUDDY         28\n",
              "451       LOLA         28\n",
              "586     OLIVER         27\n",
              "612      PENNY         27\n",
              "353     HUDSON         26\n",
              "69       BELLA         23\n",
              "185       COCO         21\n",
              "759     SOPHIE         21\n",
              "465       LUNA         20\n",
              "542      MOOSE         20"
            ]
          },
          "metadata": {},
          "execution_count": 77
        }
      ]
    },
    {
      "cell_type": "markdown",
      "metadata": {
        "id": "gIZ7IpPh_aOn"
      },
      "source": [
        "We can also do more complicated queries!"
      ]
    },
    {
      "cell_type": "code",
      "metadata": {
        "id": "0_6d2hPv8tSr"
      },
      "source": [
        "#show me the columns breedname, animal name, and zip code where the animal gender is Female\n",
        "dog_licenses_url = \"https://data.cityofnewyork.us/resource/nu7n-tubp.csv?$limit=500000&$select=breedname,animalname,zipcode&$where=animalgender='F'\""
      ],
      "execution_count": null,
      "outputs": []
    },
    {
      "cell_type": "code",
      "metadata": {
        "id": "7KwRlcVGAO3i"
      },
      "source": [
        "dog_licenses = pd.read_csv(dog_licenses_url)"
      ],
      "execution_count": null,
      "outputs": []
    },
    {
      "cell_type": "code",
      "metadata": {
        "colab": {
          "base_uri": "https://localhost:8080/",
          "height": 204
        },
        "id": "xrpRI2rvASd5",
        "outputId": "7bc52d62-cae2-4806-92ef-f6f78e4b359c"
      },
      "source": [
        "dog_licenses.head()"
      ],
      "execution_count": null,
      "outputs": [
        {
          "output_type": "execute_result",
          "data": {
            "text/html": [
              "<div>\n",
              "<style scoped>\n",
              "    .dataframe tbody tr th:only-of-type {\n",
              "        vertical-align: middle;\n",
              "    }\n",
              "\n",
              "    .dataframe tbody tr th {\n",
              "        vertical-align: top;\n",
              "    }\n",
              "\n",
              "    .dataframe thead th {\n",
              "        text-align: right;\n",
              "    }\n",
              "</style>\n",
              "<table border=\"1\" class=\"dataframe\">\n",
              "  <thead>\n",
              "    <tr style=\"text-align: right;\">\n",
              "      <th></th>\n",
              "      <th>breedname</th>\n",
              "      <th>animalname</th>\n",
              "      <th>zipcode</th>\n",
              "    </tr>\n",
              "  </thead>\n",
              "  <tbody>\n",
              "    <tr>\n",
              "      <th>0</th>\n",
              "      <td>American Pit Bull Mix / Pit Bull Mix</td>\n",
              "      <td>PAIGE</td>\n",
              "      <td>10035</td>\n",
              "    </tr>\n",
              "    <tr>\n",
              "      <th>1</th>\n",
              "      <td>Akita Crossbreed</td>\n",
              "      <td>QUEEN</td>\n",
              "      <td>10013</td>\n",
              "    </tr>\n",
              "    <tr>\n",
              "      <th>2</th>\n",
              "      <td>Maltese</td>\n",
              "      <td>LOLA</td>\n",
              "      <td>10028</td>\n",
              "    </tr>\n",
              "    <tr>\n",
              "      <th>3</th>\n",
              "      <td>Labrador Retriever Crossbreed</td>\n",
              "      <td>CHEWBACCA</td>\n",
              "      <td>10013</td>\n",
              "    </tr>\n",
              "    <tr>\n",
              "      <th>4</th>\n",
              "      <td>Dachshund Smooth Coat</td>\n",
              "      <td>HEIDI-BO</td>\n",
              "      <td>11215</td>\n",
              "    </tr>\n",
              "  </tbody>\n",
              "</table>\n",
              "</div>"
            ],
            "text/plain": [
              "                              breedname animalname  zipcode\n",
              "0  American Pit Bull Mix / Pit Bull Mix      PAIGE    10035\n",
              "1                      Akita Crossbreed      QUEEN    10013\n",
              "2                               Maltese       LOLA    10028\n",
              "3         Labrador Retriever Crossbreed  CHEWBACCA    10013\n",
              "4                 Dachshund Smooth Coat   HEIDI-BO    11215"
            ]
          },
          "metadata": {},
          "execution_count": 80
        }
      ]
    },
    {
      "cell_type": "markdown",
      "metadata": {
        "id": "wAfKWcnfBZme"
      },
      "source": [
        "### Geoclient API"
      ]
    },
    {
      "cell_type": "markdown",
      "metadata": {
        "id": "ZOiyESeoDcO2"
      },
      "source": [
        "The Geoclient API is handy for geocoding reasonable numbers of addresses--if you're doing hundreds of thousands, you should get in touch with the DoITT team and they can walk you through installing Geosupport on your local machine so you don't have to send API calls and it goes a lot quicker.  But if you have a smaller number of addresses to handle, the Geoclient API is quite handy!  You will need a subscription key, which is available [here](https://api-portal.nyc.gov/)."
      ]
    },
    {
      "cell_type": "markdown",
      "metadata": {
        "id": "sP8rmtVuT3ph"
      },
      "source": [
        "A frequently needed step is to clean up your addresses!  I've found the package USAddress to be super useful here in separating addresses into their component parts which makes the geocoder extra happy.  You can just dump a whole address in raw as well, but results vary.  We could do hours on different geocoding options, trade-offs, nuance!  I am going to breeze through this but I highly recommend reading the documentation and understanding what you're getting back--is it the front door?  Is it the top of the center of the house?  Sometimes that matters!"
      ]
    },
    {
      "cell_type": "code",
      "metadata": {
        "id": "W3HpBMCGCIE3"
      },
      "source": [
        "#the USAddress package is awesome, and can parse gross addresses into their component parts\n",
        "parser = lambda x: usaddress.tag(x, tag_mapping={'Recipient': 'recipient',\n",
        "   'AddressNumber': 'street_number',\n",
        "   'AddressNumberPrefix': 'street_number',\n",
        "   'AddressNumberSuffix': 'street_number',\n",
        "   'StreetName': 'street_name',\n",
        "   'StreetNamePreDirectional': 'street_name',\n",
        "   'StreetNamePreModifier': 'street_name',\n",
        "   'StreetNamePreType': 'street_name',\n",
        "   'StreetNamePostDirectional': 'street_name',\n",
        "   'StreetNamePostModifier': 'street_name',\n",
        "   'StreetNamePostType': 'street_name',\n",
        "   'CornerOf': 'street_corner',\n",
        "   'IntersectionSeparator': 'street_intsep',\n",
        "   'LandmarkName': 'street_landmark',\n",
        "   'USPSBoxGroupID': 'po_box',\n",
        "   'USPSBoxGroupType': 'po_box',\n",
        "   'USPSBoxID': 'po_box',\n",
        "   'USPSBoxType': 'po_box',\n",
        "   'BuildingName': 'unit',\n",
        "   'OccupancyType': 'unit',\n",
        "   'OccupancyIdentifier': 'unit',\n",
        "   'SubaddressIdentifier': 'unit',\n",
        "   'SubaddressType': 'unit',\n",
        "   'PlaceName': 'city',\n",
        "   'StateName': 'state',\n",
        "   'ZipCode': 'zip_code',\n",
        "})"
      ],
      "execution_count": null,
      "outputs": []
    },
    {
      "cell_type": "code",
      "metadata": {
        "id": "J3WB7FjWBtC1"
      },
      "source": [
        "#two different functions for calling geoclient: one for having street number and street name, and another for intersections\n",
        "#credit for this code to Adam Santos of NYC Opportunity!\n",
        "\n",
        "def geocode(row, street_num_col, street_name_col, borough_col):\n",
        "    try:\n",
        "        house_num = row[street_num_col]\n",
        "        street = row[street_name_col]\n",
        "        borough = str(row[borough_col])\n",
        "        url= '''https://api.nyc.gov/geo/geoclient/v1/address.json?houseNumber={}&street={}&borough={}&subscription-key={}'''.format(house_num,street,borough,subscription_key)\n",
        "        print(url)\n",
        "        response = requests.get(url)\n",
        "        js = response.json()\n",
        "        return js['address']\n",
        "        print(js['address'])\n",
        "    except:\n",
        "        return 'No Geocode'\n",
        "    \n",
        "def geocode_intersection(row, intersect1, intersect2, borough_col):\n",
        "    try:\n",
        "        crossStreetOne = row[intersect1]\n",
        "        crossStreetTwo = row[intersect2]\n",
        "        borough = str(row[borough_col])\n",
        "        url= '''https://api.nyc.gov/geo/geoclient/v1/address.json?crossStreetOne={}&crossStreetTwo={}&borough={}&subscription-key={}'''.format(crossStreetOne,crossStreetTwo,borough,subscription_key)\n",
        "        print(url)\n",
        "        response = requests.get(url)\n",
        "        js = response.json()\n",
        "        return js['intersection']\n",
        "    except:\n",
        "        return 'No Geocode'"
      ],
      "execution_count": null,
      "outputs": []
    },
    {
      "cell_type": "code",
      "metadata": {
        "id": "6wVHSPl1ETMa"
      },
      "source": [
        "#let's import some addresses!"
      ],
      "execution_count": null,
      "outputs": []
    },
    {
      "cell_type": "code",
      "metadata": {
        "colab": {
          "resources": {
            "http://localhost:8080/nbextensions/google.colab/files.js": {
              "data": "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",
              "ok": true,
              "headers": [
                [
                  "content-type",
                  "application/javascript"
                ]
              ],
              "status": 200,
              "status_text": ""
            }
          },
          "base_uri": "https://localhost:8080/",
          "height": 72
        },
        "id": "FJOhdvWSUzRC",
        "outputId": "31006613-335d-4a52-a272-08f14016174a"
      },
      "source": [
        "from google.colab import files\n",
        "uploaded = files.upload()"
      ],
      "execution_count": null,
      "outputs": [
        {
          "output_type": "display_data",
          "data": {
            "text/html": [
              "\n",
              "     <input type=\"file\" id=\"files-01601e95-b358-40fb-aa57-872b01a7d91c\" name=\"files[]\" multiple disabled\n",
              "        style=\"border:none\" />\n",
              "     <output id=\"result-01601e95-b358-40fb-aa57-872b01a7d91c\">\n",
              "      Upload widget is only available when the cell has been executed in the\n",
              "      current browser session. Please rerun this cell to enable.\n",
              "      </output>\n",
              "      <script src=\"/nbextensions/google.colab/files.js\"></script> "
            ],
            "text/plain": [
              "<IPython.core.display.HTML object>"
            ]
          },
          "metadata": {}
        },
        {
          "output_type": "stream",
          "name": "stdout",
          "text": [
            "Saving example_address_data.csv to example_address_data (1).csv\n"
          ]
        }
      ]
    },
    {
      "cell_type": "code",
      "metadata": {
        "id": "JL86jjO1VJgK"
      },
      "source": [
        "import io\n",
        "addresses = pd.read_csv(io.BytesIO(uploaded['example_address_data.csv']))\n",
        "# Dataset is now stored in a Pandas Dataframe"
      ],
      "execution_count": null,
      "outputs": []
    },
    {
      "cell_type": "code",
      "metadata": {
        "colab": {
          "base_uri": "https://localhost:8080/",
          "height": 204
        },
        "id": "_FkmRgz5VRqr",
        "outputId": "773aa800-c160-4e64-dfc4-01d09b4d805a"
      },
      "source": [
        "#let's take a look at the data!  We've got some units and stuff up in these addresses...\n",
        "addresses.head()"
      ],
      "execution_count": null,
      "outputs": [
        {
          "output_type": "execute_result",
          "data": {
            "text/html": [
              "<div>\n",
              "<style scoped>\n",
              "    .dataframe tbody tr th:only-of-type {\n",
              "        vertical-align: middle;\n",
              "    }\n",
              "\n",
              "    .dataframe tbody tr th {\n",
              "        vertical-align: top;\n",
              "    }\n",
              "\n",
              "    .dataframe thead th {\n",
              "        text-align: right;\n",
              "    }\n",
              "</style>\n",
              "<table border=\"1\" class=\"dataframe\">\n",
              "  <thead>\n",
              "    <tr style=\"text-align: right;\">\n",
              "      <th></th>\n",
              "      <th>Address_Full</th>\n",
              "      <th>Address</th>\n",
              "      <th>Borough</th>\n",
              "      <th>City</th>\n",
              "      <th>State/Province</th>\n",
              "      <th>Zip/Postal</th>\n",
              "      <th>Zip4</th>\n",
              "      <th>CountryCode</th>\n",
              "    </tr>\n",
              "  </thead>\n",
              "  <tbody>\n",
              "    <tr>\n",
              "      <th>0</th>\n",
              "      <td>14207 Quince Ave, Flushing, NY 11355</td>\n",
              "      <td>14207 Quince Ave</td>\n",
              "      <td>Queens</td>\n",
              "      <td>Flushing</td>\n",
              "      <td>NY</td>\n",
              "      <td>11355</td>\n",
              "      <td>3563.0</td>\n",
              "      <td>US</td>\n",
              "    </tr>\n",
              "    <tr>\n",
              "      <th>1</th>\n",
              "      <td>1760 Bussing Ave, Bronx, NY 10466</td>\n",
              "      <td>1760 Bussing Ave</td>\n",
              "      <td>Bronx</td>\n",
              "      <td>Bronx</td>\n",
              "      <td>NY</td>\n",
              "      <td>10466</td>\n",
              "      <td>2048.0</td>\n",
              "      <td>US</td>\n",
              "    </tr>\n",
              "    <tr>\n",
              "      <th>2</th>\n",
              "      <td>19 Alabama Ave Fl 2, Brooklyn, NY 11207</td>\n",
              "      <td>19 Alabama Ave Fl 2</td>\n",
              "      <td>Brooklyn</td>\n",
              "      <td>Brooklyn</td>\n",
              "      <td>NY</td>\n",
              "      <td>11207</td>\n",
              "      <td>2303.0</td>\n",
              "      <td>US</td>\n",
              "    </tr>\n",
              "    <tr>\n",
              "      <th>3</th>\n",
              "      <td>300 Putnam Ave Apt 6B, Brooklyn, NY 11216</td>\n",
              "      <td>300 Putnam Ave Apt 6B</td>\n",
              "      <td>Brooklyn</td>\n",
              "      <td>Brooklyn</td>\n",
              "      <td>NY</td>\n",
              "      <td>11216</td>\n",
              "      <td>1780.0</td>\n",
              "      <td>US</td>\n",
              "    </tr>\n",
              "    <tr>\n",
              "      <th>4</th>\n",
              "      <td>683 Dean St Apt G2, Brooklyn, NY 11238</td>\n",
              "      <td>683 Dean St Apt G2</td>\n",
              "      <td>Brooklyn</td>\n",
              "      <td>Brooklyn</td>\n",
              "      <td>NY</td>\n",
              "      <td>11238</td>\n",
              "      <td>3262.0</td>\n",
              "      <td>US</td>\n",
              "    </tr>\n",
              "  </tbody>\n",
              "</table>\n",
              "</div>"
            ],
            "text/plain": [
              "                                Address_Full  ... CountryCode\n",
              "0       14207 Quince Ave, Flushing, NY 11355  ...          US\n",
              "1          1760 Bussing Ave, Bronx, NY 10466  ...          US\n",
              "2    19 Alabama Ave Fl 2, Brooklyn, NY 11207  ...          US\n",
              "3  300 Putnam Ave Apt 6B, Brooklyn, NY 11216  ...          US\n",
              "4     683 Dean St Apt G2, Brooklyn, NY 11238  ...          US\n",
              "\n",
              "[5 rows x 8 columns]"
            ]
          },
          "metadata": {},
          "execution_count": 94
        }
      ]
    },
    {
      "cell_type": "code",
      "metadata": {
        "id": "sVc-QIAbEP5v"
      },
      "source": [
        "#let's prep our data for parsing by making sure everything is a string and then applying the parser on the column with the address\n",
        "addresses['Address'] = addresses['Address'].astype(str)\n",
        "addresses['Parsed'] = addresses['Address'].apply(parser)\n",
        "\n",
        "#now we've stored the dictionary the parser returns in a column so let's split it out and then get the components we're interested in!\n",
        "addresses[['street_stuff','type']] = pd.DataFrame(addresses['Parsed'].values.tolist())\n",
        "addresses['street_number'] = [d.get('street_number') for d in addresses.street_stuff]\n",
        "addresses['street_name'] = [d.get('street_name') for d in addresses.street_stuff]"
      ],
      "execution_count": null,
      "outputs": []
    },
    {
      "cell_type": "code",
      "metadata": {
        "colab": {
          "base_uri": "https://localhost:8080/",
          "height": 289
        },
        "id": "zrbxnK8PVmvk",
        "outputId": "32db519a-9039-44e6-d5c7-f02f09e4ed7b"
      },
      "source": [
        "addresses.head()"
      ],
      "execution_count": null,
      "outputs": [
        {
          "output_type": "execute_result",
          "data": {
            "text/html": [
              "<div>\n",
              "<style scoped>\n",
              "    .dataframe tbody tr th:only-of-type {\n",
              "        vertical-align: middle;\n",
              "    }\n",
              "\n",
              "    .dataframe tbody tr th {\n",
              "        vertical-align: top;\n",
              "    }\n",
              "\n",
              "    .dataframe thead th {\n",
              "        text-align: right;\n",
              "    }\n",
              "</style>\n",
              "<table border=\"1\" class=\"dataframe\">\n",
              "  <thead>\n",
              "    <tr style=\"text-align: right;\">\n",
              "      <th></th>\n",
              "      <th>Address_Full</th>\n",
              "      <th>Address</th>\n",
              "      <th>Borough</th>\n",
              "      <th>City</th>\n",
              "      <th>State/Province</th>\n",
              "      <th>Zip/Postal</th>\n",
              "      <th>Zip4</th>\n",
              "      <th>CountryCode</th>\n",
              "      <th>Parsed</th>\n",
              "      <th>street_stuff</th>\n",
              "      <th>type</th>\n",
              "      <th>street_number</th>\n",
              "      <th>street_name</th>\n",
              "    </tr>\n",
              "  </thead>\n",
              "  <tbody>\n",
              "    <tr>\n",
              "      <th>0</th>\n",
              "      <td>14207 Quince Ave, Flushing, NY 11355</td>\n",
              "      <td>14207 Quince Ave</td>\n",
              "      <td>Queens</td>\n",
              "      <td>Flushing</td>\n",
              "      <td>NY</td>\n",
              "      <td>11355</td>\n",
              "      <td>3563.0</td>\n",
              "      <td>US</td>\n",
              "      <td>({'street_number': '14207', 'street_name': 'Quince Ave'}, Street Address)</td>\n",
              "      <td>{'street_number': '14207', 'street_name': 'Quince Ave'}</td>\n",
              "      <td>Street Address</td>\n",
              "      <td>14207</td>\n",
              "      <td>Quince Ave</td>\n",
              "    </tr>\n",
              "    <tr>\n",
              "      <th>1</th>\n",
              "      <td>1760 Bussing Ave, Bronx, NY 10466</td>\n",
              "      <td>1760 Bussing Ave</td>\n",
              "      <td>Bronx</td>\n",
              "      <td>Bronx</td>\n",
              "      <td>NY</td>\n",
              "      <td>10466</td>\n",
              "      <td>2048.0</td>\n",
              "      <td>US</td>\n",
              "      <td>({'street_number': '1760', 'street_name': 'Bussing Ave'}, Street Address)</td>\n",
              "      <td>{'street_number': '1760', 'street_name': 'Bussing Ave'}</td>\n",
              "      <td>Street Address</td>\n",
              "      <td>1760</td>\n",
              "      <td>Bussing Ave</td>\n",
              "    </tr>\n",
              "    <tr>\n",
              "      <th>2</th>\n",
              "      <td>19 Alabama Ave Fl 2, Brooklyn, NY 11207</td>\n",
              "      <td>19 Alabama Ave Fl 2</td>\n",
              "      <td>Brooklyn</td>\n",
              "      <td>Brooklyn</td>\n",
              "      <td>NY</td>\n",
              "      <td>11207</td>\n",
              "      <td>2303.0</td>\n",
              "      <td>US</td>\n",
              "      <td>({'street_number': '19', 'street_name': 'Alabama Ave', 'unit': 'Fl 2'}, Street Address)</td>\n",
              "      <td>{'street_number': '19', 'street_name': 'Alabama Ave', 'unit': 'Fl 2'}</td>\n",
              "      <td>Street Address</td>\n",
              "      <td>19</td>\n",
              "      <td>Alabama Ave</td>\n",
              "    </tr>\n",
              "    <tr>\n",
              "      <th>3</th>\n",
              "      <td>300 Putnam Ave Apt 6B, Brooklyn, NY 11216</td>\n",
              "      <td>300 Putnam Ave Apt 6B</td>\n",
              "      <td>Brooklyn</td>\n",
              "      <td>Brooklyn</td>\n",
              "      <td>NY</td>\n",
              "      <td>11216</td>\n",
              "      <td>1780.0</td>\n",
              "      <td>US</td>\n",
              "      <td>({'street_number': '300', 'street_name': 'Putnam Ave', 'unit': 'Apt 6B'}, Street Address)</td>\n",
              "      <td>{'street_number': '300', 'street_name': 'Putnam Ave', 'unit': 'Apt 6B'}</td>\n",
              "      <td>Street Address</td>\n",
              "      <td>300</td>\n",
              "      <td>Putnam Ave</td>\n",
              "    </tr>\n",
              "    <tr>\n",
              "      <th>4</th>\n",
              "      <td>683 Dean St Apt G2, Brooklyn, NY 11238</td>\n",
              "      <td>683 Dean St Apt G2</td>\n",
              "      <td>Brooklyn</td>\n",
              "      <td>Brooklyn</td>\n",
              "      <td>NY</td>\n",
              "      <td>11238</td>\n",
              "      <td>3262.0</td>\n",
              "      <td>US</td>\n",
              "      <td>({'street_number': '683', 'street_name': 'Dean St', 'unit': 'Apt G2'}, Street Address)</td>\n",
              "      <td>{'street_number': '683', 'street_name': 'Dean St', 'unit': 'Apt G2'}</td>\n",
              "      <td>Street Address</td>\n",
              "      <td>683</td>\n",
              "      <td>Dean St</td>\n",
              "    </tr>\n",
              "  </tbody>\n",
              "</table>\n",
              "</div>"
            ],
            "text/plain": [
              "                                Address_Full  ...  street_name\n",
              "0       14207 Quince Ave, Flushing, NY 11355  ...   Quince Ave\n",
              "1          1760 Bussing Ave, Bronx, NY 10466  ...  Bussing Ave\n",
              "2    19 Alabama Ave Fl 2, Brooklyn, NY 11207  ...  Alabama Ave\n",
              "3  300 Putnam Ave Apt 6B, Brooklyn, NY 11216  ...   Putnam Ave\n",
              "4     683 Dean St Apt G2, Brooklyn, NY 11238  ...      Dean St\n",
              "\n",
              "[5 rows x 13 columns]"
            ]
          },
          "metadata": {},
          "execution_count": 96
        }
      ]
    },
    {
      "cell_type": "code",
      "metadata": {
        "id": "7eh8dMSsEam3"
      },
      "source": [
        "#now let's make a column that has the geocode return for the address and apply the geocoder to the column!\n",
        "addresses['geo'] = addresses.apply(lambda x:geocode(x, 'street_number','street_name', 'Borough'), axis=1)"
      ],
      "execution_count": null,
      "outputs": []
    },
    {
      "cell_type": "code",
      "metadata": {
        "id": "7IwxvdNSEfk2"
      },
      "source": [
        "#let's pull out the latitude and longitude and bbl for each!\n",
        "addresses['latitude'] = [d.get('latitude') for d in addresses.geo]\n",
        "addresses['longitude'] = [d.get('longitude') for d in addresses.geo]\n",
        "addresses['bbl'] = [d.get('bbl') for d in addresses.geo]"
      ],
      "execution_count": null,
      "outputs": []
    },
    {
      "cell_type": "code",
      "metadata": {
        "id": "eebCxfZdEmf8"
      },
      "source": [
        "#let's turn our dataframe into a shapefile for mapping!\n",
        "address_shapes = gpd.GeoDataFrame(addresses, geometry=gpd.points_from_xy(addresses.longitude, addresses.latitude))"
      ],
      "execution_count": null,
      "outputs": []
    },
    {
      "cell_type": "code",
      "metadata": {
        "colab": {
          "base_uri": "https://localhost:8080/",
          "height": 679
        },
        "id": "0tSZvt8TWYQC",
        "outputId": "4cfc9e5a-502b-47b7-a3e6-7405f9f9397f"
      },
      "source": [
        "fig, ax = plt.subplots(figsize=(15,15))\n",
        "ax.set_aspect('equal')\n",
        "ax.axis('off')\n",
        "plt.title(\"Sample Addresses on ZCTA Map\")\n",
        "nyc_zcta.plot(ax=ax, edgecolor='black', lw=2, legend=True, facecolor='white')\n",
        "address_shapes.plot(ax=ax, color='blue', markersize=20)\n",
        "plt.show();"
      ],
      "execution_count": null,
      "outputs": [
        {
          "output_type": "display_data",
          "data": {
            "image/png": "[encoded data removed]",
            "text/plain": [
              "<Figure size 1080x1080 with 1 Axes>"
            ]
          },
          "metadata": {
            "needs_background": "light"
          }
        }
      ]
    },
    {
      "cell_type": "markdown",
      "metadata": {
        "id": "J2w2xw-tXJNM"
      },
      "source": [
        "### Debrief!"
      ]
    },
    {
      "cell_type": "markdown",
      "metadata": {
        "id": "HEBly3yXFvIt"
      },
      "source": [
        "There are so many [Open APIs](https://github.com/public-apis/public-apis#government) out there!  Personal favorite: Wegmans has a public API!"
      ]
    },
    {
      "cell_type": "code",
      "metadata": {
        "id": "hmD6wd-SF2PR"
      },
      "source": [
        ""
      ],
      "execution_count": null,
      "outputs": []
    }
  ]
}